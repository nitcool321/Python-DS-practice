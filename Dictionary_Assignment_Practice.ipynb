{
 "cells": [
  {
   "cell_type": "code",
   "execution_count": null,
   "id": "aae76d71",
   "metadata": {},
   "outputs": [],
   "source": [
    "# Initialize a dictionary \"emp_info\" with below details\n",
    "# In - emp_info['Tom']\n",
    "# Out - {'email':'tom_latham019@gmail.com', 'Phone': +1987654321, 'City': 'California'}\n",
    "\n",
    "# In - emp_info['Kathy']\n",
    "# Out - {'email':'kathy_abram897@gmail.com', 'Phone': +1887654321, 'City': 'New York'}"
   ]
  },
  {
   "cell_type": "code",
   "execution_count": null,
   "id": "ee1ac07d",
   "metadata": {},
   "outputs": [],
   "source": [
    "emp_info ={\"Tom\":{\"email\":\"tom_latham019@gmail.com\", \"Phone\": +1987654321, \"City\": \"California\"}, \"Kathy\":{'email':'kathy_abram897@gmail.com', 'Phone': +1887654321, 'City': 'New York'}}\n",
    "emp_info['Tom']\n",
    "emp_info['Kathy']"
   ]
  },
  {
   "cell_type": "code",
   "execution_count": null,
   "id": "027bfc46",
   "metadata": {},
   "outputs": [],
   "source": [
    "# Create a dictionary out of below inputs\n",
    "# lst1 = ['emp1', 'emp2', 'emp3']\n",
    "# emp_key = ['e_name', 'e_id', 'e_sal']\n",
    "# emp1_val = ['John', 'SG101', '$10,000']\n",
    "# emp2_val = ['Smith', 'SG102', '$9,000']\n",
    "# emp3_val = ['Peter', 'SG103', '$9,500']\n",
    "\n",
    "# Expected Output:- {'emp1':{'e_name':'John', 'e_id':'SG101', 'e_sal':$10,000}, \n",
    "#                    'emp2':{'e_name':'Smith', 'e_id':'SG102', 'e_sal':$9,000}, \n",
    "#                    'emp3':{'e_name':'Peter', 'e_id':'SG103', 'e_sal':$9,500}}"
   ]
  },
  {
   "cell_type": "code",
   "execution_count": 11,
   "id": "6f576621",
   "metadata": {},
   "outputs": [
    {
     "name": "stdout",
     "output_type": "stream",
     "text": [
      "Enter  1 employee name \n",
      "John\n",
      "Enter  1 employee id \n",
      "SG101\n",
      "Enter  1 employee salary \n",
      "$10000\n",
      "Enter  2 employee name \n",
      "Smith\n",
      "Enter  2 employee id \n",
      "SG102\n",
      "Enter  2 employee salary \n",
      "$9000\n",
      "Enter  3 employee name \n",
      "Peter\n",
      "Enter  3 employee id \n",
      "SG103\n",
      "Enter  3 employee salary \n",
      "$9500\n",
      "{'emp1': {'e_name': 'John', 'e_id': 'SG101', 'e_sal': '$10000'}, 'emp2': {'e_name': 'Smith', 'e_id': 'SG102', 'e_sal': '$9000'}, 'emp3': {'e_name': 'Peter', 'e_id': 'SG103', 'e_sal': '$9500'}}\n"
     ]
    }
   ],
   "source": [
    "d = {}\n",
    "n = 3\n",
    "l = ['emp1', 'emp2', 'emp3']\n",
    "for i in range(1,4):\n",
    "    \n",
    "    print(\"Enter \", i, \"employee name \")\n",
    "    name = input()\n",
    "    print(\"Enter \", i, \"employee id \")\n",
    "    idn = input()\n",
    "    print(\"Enter \", i, \"employee salary \")\n",
    "    sal = input()\n",
    "    d.update({l[i-1]:{\"e_name\":name, \"e_id\":idn, \"e_sal\":sal}})\n",
    "print(d)"
   ]
  },
  {
   "cell_type": "code",
   "execution_count": 12,
   "id": "7e582e32",
   "metadata": {},
   "outputs": [
    {
     "data": {
      "text/plain": [
       "80"
      ]
     },
     "execution_count": 12,
     "metadata": {},
     "output_type": "execute_result"
    }
   ],
   "source": [
    "# Acess the value of key 'history'\n",
    "\n",
    "sampleDict = { \n",
    "   \"class\":{ \n",
    "      \"student\":{ \n",
    "         \"name\":\"Mike\",\n",
    "         \"marks\":{ \n",
    "            \"physics\":70,\n",
    "            \"history\":80\n",
    "         }\n",
    "      }\n",
    "   }\n",
    "}\n",
    "#print(sampleDict[\"class\"[\"student\"[\"marks\"[\"history\"]]]])\n",
    "# print(sampleDict[\"class\"].keys())\n",
    "sampleDict['class']['student']['marks']['history']"
   ]
  },
  {
   "cell_type": "code",
   "execution_count": 5,
   "id": "e256c86a",
   "metadata": {},
   "outputs": [
    {
     "name": "stdout",
     "output_type": "stream",
     "text": [
      "{'Kelly': {'designation': 'Application Developer', 'salary': 8000}, 'Emma': {'designation': 'Application Developer', 'salary': 8000}, 'John': {'designation': 'Application Developer', 'salary': 8000}}\n"
     ]
    }
   ],
   "source": [
    "# Initialize dictionary with default values. Inputs are:-\n",
    "employees = ['Kelly', 'Emma', 'John']\n",
    "defaults = {\"designation\": 'Application Developer', \"salary\": 8000}\n",
    "\n",
    "#Expected output:- {'Kelly': {'designation': 'Application Developer', 'salary': 8000}, \n",
    "#                   'Emma': {'designation': 'Application Developer', 'salary': 8000}, \n",
    "#                   'John': {'designation': 'Application Developer', 'salary': 8000}}\n",
    "d = {}\n",
    "for i in employees:\n",
    "    d.update({i:defaults})\n",
    "print(d)"
   ]
  },
  {
   "cell_type": "code",
   "execution_count": null,
   "id": "73a15781",
   "metadata": {},
   "outputs": [],
   "source": []
  },
  {
   "cell_type": "code",
   "execution_count": null,
   "id": "f236c7ca",
   "metadata": {},
   "outputs": [],
   "source": [
    "# In gene expression, mRNA is transcribed from a DNA template. \n",
    "# The 4 nucleotide bases of A, T, C, G corresponds to the U, A, G, C bases of the mRNA. \n",
    "# Write a function that returns the mRNA transcript given the sequence of a DNA strand.\n",
    "\n",
    "# Use a dictionary to provide the mapping of DNA to RNA bases."
   ]
  },
  {
   "cell_type": "code",
   "execution_count": 6,
   "id": "ad51985a",
   "metadata": {},
   "outputs": [
    {
     "name": "stdout",
     "output_type": "stream",
     "text": [
      "Enter sequence of DNA strand: A\n",
      "The corresponding mRNA transcript is:  U\n"
     ]
    }
   ],
   "source": [
    "def func(a):\n",
    "    mapping = {\"A\":\"U\",\"T\":\"A\",\"C\":\"G\",\"G\":\"C\"}\n",
    "    b = mapping[a]\n",
    "    return b\n",
    "x = input(\"Enter sequence of DNA strand: \")\n",
    "c = func(x)\n",
    "print(\"The corresponding mRNA transcript is: \", c)"
   ]
  },
  {
   "cell_type": "code",
   "execution_count": null,
   "id": "2084e359",
   "metadata": {},
   "outputs": [],
   "source": [
    "# Write a function which takes a word as input and returns a dictionary with letters as key and no of time letters are repeated as value.\n",
    "# In - count_letter('google.com')\n",
    "# Out - {'g': 2, 'o': 3, 'l': 1, 'e': 1, '.': 1, 'c': 1, 'm': 1}"
   ]
  },
  {
   "cell_type": "code",
   "execution_count": 7,
   "id": "67b92458",
   "metadata": {},
   "outputs": [
    {
     "name": "stdout",
     "output_type": "stream",
     "text": [
      "Enter word to check: google\n",
      "{'g': 2, 'o': 2, 'l': 1, 'e': 1}\n"
     ]
    }
   ],
   "source": [
    "def cL(a):\n",
    "    g={}\n",
    "    for i in range(len(a)):\n",
    "        d = a[i:i+1]\n",
    "        g.update({d:a.count(a[i])}) #keys can't be repeated, so no worries about duplicates\n",
    "    print(g)\n",
    "\n",
    "s = input(\"Enter word to check: \")\n",
    "cL(s)"
   ]
  },
  {
   "cell_type": "code",
   "execution_count": null,
   "id": "04728461",
   "metadata": {},
   "outputs": [],
   "source": [
    "# A DNA strand consisting of the 4 nucleotide bases is usually represented with a string of letters: A,T, C, G. \n",
    "# Write a function that computes the base composition of a given DNA sequence.\n",
    "\n",
    "# In - baseComposition(\"CTATCGGCACCCTTTCAGCA\")\n",
    "# Out - {'A': 4, 'C': 8, 'T': 5,  'G': 3 }\n",
    "    \n",
    "# In - baseComposition(\"AGT\")\n",
    "# Out - {'A': 1, 'C': 0, 'T': 1,  'G': 1 }"
   ]
  },
  {
   "cell_type": "code",
   "execution_count": null,
   "id": "6ec2dc90",
   "metadata": {},
   "outputs": [],
   "source": [
    "def bcomp(a):\n",
    "    g={}\n",
    "    for i in range(len(a)):\n",
    "        if a[i:i+1] == \"A\" or \"T\" or \"C\" or \"G\":\n",
    "            g.update({a[i]:a.count(a[i])})\n",
    "    print(\"Base composition is: \",g)\n",
    "\n",
    "x = input(\"Enter DNA sequence: \")\n",
    "bcomp(x)\n",
    "    "
   ]
  },
  {
   "cell_type": "code",
   "execution_count": null,
   "id": "7d42d50d",
   "metadata": {},
   "outputs": [],
   "source": [
    "# [MCQ] Suppose \"d\" is an empty dictionary, which statement does not assign \"d\" with {\"Name\":\"Tom\"}? \n",
    "# 1. d = {\"Name\": \"Tom\" }\n",
    "# 2. d[\"Name\"] = \"Tom\"\n",
    "# 3. d.update({\"Name\": \"Tom\" })\n",
    "# 4. d.setdefault(\"Name\", \"Tom\")\n",
    "# 5. None of the above."
   ]
  },
  {
   "cell_type": "code",
   "execution_count": null,
   "id": "d99b361e",
   "metadata": {},
   "outputs": [],
   "source": [
    "# [MCQ] d = {\"a\":1, \"b\":2}. Which of the statements returns [1,2]? \n",
    "# 1. d.keys()\n",
    "# 2. d.values()\n",
    "# 3. d.items()\n",
    "# 4. d.popitem()\n",
    "# 5. None of the above.\n",
    "# 2\n",
    "d = {\"a\":1, \"b\":2}\n",
    "d.popitem()"
   ]
  },
  {
   "cell_type": "code",
   "execution_count": null,
   "id": "05e7def5",
   "metadata": {},
   "outputs": [],
   "source": [
    "# [MCQ] Which of the following declarations is not valid for 'dict' type?\n",
    "# 1. d = {\"Name\": \"Tom\" }\n",
    "# 2. d = { (1,3,4): 4.5 }\n",
    "# 3. d = { [\"First\", \"Last\"]: (1,3) }\n",
    "# 4. d = { 1: 0.4 }\n",
    "# 5. None of the above\n",
    "# 3\n",
    "d = { (1,3,4): 4.5 }\n",
    "print(d)"
   ]
  },
  {
   "cell_type": "code",
   "execution_count": null,
   "id": "88dedff4",
   "metadata": {},
   "outputs": [],
   "source": [
    "# Write a function reverseLookup(dictionary, value) that takes in a dictionary \n",
    "# and a value as arguments and returns a sorted list of all keys that contains the value. \n",
    "# The function will return an empty list if no match is found.\n",
    "\n",
    "# In - reverseLookup({'a':1, 'b':2, 'c':2}, 1)\n",
    "# Out - ['a']\n",
    "# In - reverseLookup({'a':1, 'b':2, 'c':2}, 2)\n",
    "# Out - ['b', 'c']\n",
    "# In - reverseLookup({'a':1, 'b':2, 'c':2}, 3)\n",
    "# Out - []"
   ]
  },
  {
   "cell_type": "code",
   "execution_count": null,
   "id": "f719f238",
   "metadata": {},
   "outputs": [],
   "source": [
    "x = 1\n",
    "d = {}\n",
    "l1 = []\n",
    "l2 = []\n",
    "l3 = []\n",
    "def rLookup(e, **c): #kwargs always in last\n",
    "    l1 = list(c.keys()) #Converting tuple to list to make it subscriptable\n",
    "    l2 = list(c.values())\n",
    "    print(l1,l2)\n",
    "    for i in range(len(l1)):\n",
    "        if l2[i] == e:\n",
    "            l3.append(l1[i])\n",
    "    print(sorted(l3)) # This is how sort function is used \n",
    "while (x==1):\n",
    "    print(\"Enter key, Press 0 to stop: \")\n",
    "    k = input()\n",
    "    if k == \"0\":\n",
    "        x = 0\n",
    "    else:\n",
    "        print(\"Enter value: \")\n",
    "        v = input()\n",
    "        d.update({k:v})\n",
    "f = input(\"Enter number to lookup for: \")\n",
    "rLookup(f,**d) #This is how it is called"
   ]
  },
  {
   "cell_type": "code",
   "execution_count": null,
   "id": "b347fc20",
   "metadata": {},
   "outputs": [],
   "source": [
    "# Write a function invertDictionary(d) that takes in a dictionary as argument and return a dictionary that inverts the keys and the values of the original dictionary.\n",
    "# In - invertDictionary({'a':1, 'b':2, 'c':3, 'd':2})\n",
    "# Out - {1: ['a'], 2: ['b', 'd'], 3: ['c']}\n",
    "# In - invertDictionary({'a':3, 'b':3, 'c':3})\n",
    "# Out - {3: ['a', 'c', 'b']}\n",
    "# In - invertDictionary({'a':2, 'b':1, 'c':2, 'd':1})\n",
    "# Out - {1: ['b', 'd'], 2: ['a', 'c']}"
   ]
  },
  {
   "cell_type": "code",
   "execution_count": 1,
   "id": "91517295",
   "metadata": {},
   "outputs": [
    {
     "name": "stdout",
     "output_type": "stream",
     "text": [
      "Enter key, Press 0 to stop: \n",
      "a\n",
      "Enter value: \n",
      "1\n",
      "Enter key, Press 0 to stop: \n",
      "b\n",
      "Enter value: \n",
      "2\n",
      "Enter key, Press 0 to stop: \n",
      "c\n",
      "Enter value: \n",
      "3\n",
      "Enter key, Press 0 to stop: \n",
      "d\n",
      "Enter value: \n",
      "2\n",
      "Enter key, Press 0 to stop: \n",
      "0\n",
      "{'1': ['a'], '2': ['b', 'd'], '3': ['c']}\n"
     ]
    }
   ],
   "source": [
    "x = 1\n",
    "d = {}\n",
    "q = {}\n",
    "l1 = []\n",
    "l2 = []\n",
    "l3 = []\n",
    "\n",
    "def rinvert(**c):\n",
    "    l1 = list(c.keys()) #Converting tuple to list to make it subscriptable\n",
    "    l2 = list(c.values())\n",
    "    \n",
    "    for i in l2:\n",
    "        if i not in l3:\n",
    "            l3.append(i)\n",
    "    \n",
    "    for j in l3:\n",
    "        l4=[]\n",
    "        for k in range(len(l2)):\n",
    "            if j == l2[k]:\n",
    "                l4.append(l1[k])\n",
    "                \n",
    "        q.update({j:l4})\n",
    "                #can't assign l4 blank here, used before assignment error will come\n",
    "    print(q)\n",
    "                \n",
    "while (x==1):\n",
    "    print(\"Enter key, Press 0 to stop: \")\n",
    "    k = input()\n",
    "    if k == \"0\":\n",
    "        x = 0\n",
    "    else:\n",
    "        print(\"Enter value: \")\n",
    "        v = input()\n",
    "        d.update({k:v})\n",
    "rinvert(**d) "
   ]
  },
  {
   "cell_type": "code",
   "execution_count": 8,
   "id": "9625136d",
   "metadata": {},
   "outputs": [],
   "source": [
    "# Write a function that converts a sparse vector into a dictionary as described above.\n",
    "# In - convertVector([1, 0, 0, 2, 0, 0, 0, 3, 0, 0, 0, 0, 4])\n",
    "# Out - {0: 1, 3: 2, 7: 3, 12: 4}\n",
    "# In - convertVector([1, 0, 1 , 0, 2, 0, 1, 0, 0, 1, 0])\n",
    "# Out - {0: 1, 2: 1, 4: 2, 6: 1, 9: 1}\n",
    "# In - convertVector([0, 0, 0, 0, 0])\n",
    "# Out - {}"
   ]
  },
  {
   "cell_type": "code",
   "execution_count": 9,
   "id": "d2e9b4b5",
   "metadata": {},
   "outputs": [
    {
     "name": "stdout",
     "output_type": "stream",
     "text": [
      "Enter number of vectors: 13\n",
      "Enter number in sparse matrix: \n",
      "1\n",
      "Enter number in sparse matrix: \n",
      "0\n",
      "Enter number in sparse matrix: \n",
      "0\n",
      "Enter number in sparse matrix: \n",
      "2\n",
      "Enter number in sparse matrix: \n",
      "0\n",
      "Enter number in sparse matrix: \n",
      "0\n",
      "Enter number in sparse matrix: \n",
      "0\n",
      "Enter number in sparse matrix: \n",
      "3\n",
      "Enter number in sparse matrix: \n",
      "0\n",
      "Enter number in sparse matrix: \n",
      "0\n",
      "Enter number in sparse matrix: \n",
      "0\n",
      "Enter number in sparse matrix: \n",
      "0\n",
      "Enter number in sparse matrix: \n",
      "4\n",
      "{0: '1', 3: '2', 7: '3', 12: '4'}\n"
     ]
    }
   ],
   "source": [
    "x = 1\n",
    "d = []\n",
    "y={}\n",
    "def sparse(*c):\n",
    "    for i in range(len(c)):\n",
    "        if c[i] != \"0\":\n",
    "            y.update({i:c[i]})\n",
    "    print(y)\n",
    "n = int(input(\"Enter number of vectors: \"))\n",
    "for j in range(n):\n",
    "    print(\"Enter number in sparse matrix: \")\n",
    "    k = input()\n",
    "    d.append(k)\n",
    "sparse(*d)"
   ]
  },
  {
   "cell_type": "code",
   "execution_count": null,
   "id": "91d41f17",
   "metadata": {},
   "outputs": [],
   "source": [
    "# Write a function that converts a dictionary back to its sparse vector representation.\n",
    "# In - convertDictionary({0: 1, 3: 2, 7: 3, 12: 4})\n",
    "# Out - [1, 0, 0, 2, 0, 0, 0, 3, 0, 0, 0, 0, 4]\n",
    "# In - convertDictionary({0: 1, 2: 1, 4: 2, 6: 1, 9: 1})\n",
    "# Out - [1, 0, 1, 0, 2, 0, 1, 0, 0, 1]\n",
    "# In - convertDictionary({})\n",
    "# Out - []"
   ]
  },
  {
   "cell_type": "code",
   "execution_count": 31,
   "id": "8e18e0b5",
   "metadata": {},
   "outputs": [
    {
     "name": "stdout",
     "output_type": "stream",
     "text": [
      "Enter number of vectors: 4\n",
      "Enter key of sparse matrix: \n",
      "0\n",
      "Enter value of sparse dictionary: 1\n",
      "Enter key of sparse matrix: \n",
      "3\n",
      "Enter value of sparse dictionary: 2\n",
      "Enter key of sparse matrix: \n",
      "7\n",
      "Enter value of sparse dictionary: 4\n",
      "Enter key of sparse matrix: \n",
      "12\n",
      "Enter value of sparse dictionary: 13\n",
      "[1, 0, 0, 2, 0, 0, 0, 4, 0, 0, 0, 0, 13]\n"
     ]
    }
   ],
   "source": [
    "x = 1 #str 7 is greater than str 12\n",
    "d1 = []\n",
    "d2 = []\n",
    "d3=[]\n",
    "d4=[]\n",
    "l1=[]\n",
    "l2=[]\n",
    "y={}\n",
    "o=0\n",
    "def sparsy(**c):\n",
    "    l1 = list(c.keys())\n",
    "    l2 = list(c.values())\n",
    "    for j in range(len(l1)):\n",
    "        d1.append(int(l1[j]))\n",
    "        d2.append(int(l2[j]))\n",
    "\n",
    "    o = max(d1)\n",
    "\n",
    "    for i in range(0,o+1):\n",
    "        if i in d1:\n",
    "            d3.append(c[str(i)])\n",
    "        else:\n",
    "            d3.append(0)\n",
    "\n",
    "\n",
    "    for k in range(len(d3)):\n",
    "        d4.append(int(d3[k]))\n",
    "    print(d4)\n",
    "n = int(input(\"Enter number of vectors: \"))\n",
    "if n == 0:\n",
    "    print(\"[]\")\n",
    "else:\n",
    "    for j in range(n):\n",
    "        print(\"Enter key of sparse matrix: \")\n",
    "        k = input()\n",
    "        m = input(\"Enter value of sparse dictionary: \")\n",
    "        y.update({k:m})\n",
    "    sparsy(**y)"
   ]
  },
  {
   "cell_type": "code",
   "execution_count": 6,
   "id": "2340c790",
   "metadata": {},
   "outputs": [
    {
     "ename": "AttributeError",
     "evalue": "'list' object has no attribute 'split'",
     "output_type": "error",
     "traceback": [
      "\u001b[1;31m---------------------------------------------------------------------------\u001b[0m",
      "\u001b[1;31mAttributeError\u001b[0m                            Traceback (most recent call last)",
      "\u001b[1;32m<ipython-input-6-3ac101679ab6>\u001b[0m in \u001b[0;36m<module>\u001b[1;34m\u001b[0m\n\u001b[0;32m      1\u001b[0m \u001b[0ml9\u001b[0m \u001b[1;33m=\u001b[0m \u001b[1;33m[\u001b[0m\u001b[1;34m'7'\u001b[0m\u001b[1;33m,\u001b[0m \u001b[1;34m'9'\u001b[0m\u001b[1;33m,\u001b[0m \u001b[1;34m'15'\u001b[0m\u001b[1;33m]\u001b[0m\u001b[1;33m\u001b[0m\u001b[1;33m\u001b[0m\u001b[0m\n\u001b[1;32m----> 2\u001b[1;33m \u001b[0mzd\u001b[0m \u001b[1;33m=\u001b[0m \u001b[0mint\u001b[0m\u001b[1;33m(\u001b[0m\u001b[0ml9\u001b[0m\u001b[1;33m.\u001b[0m\u001b[0msplit\u001b[0m\u001b[1;33m(\u001b[0m\u001b[1;33m)\u001b[0m\u001b[1;33m)\u001b[0m\u001b[1;33m\u001b[0m\u001b[1;33m\u001b[0m\u001b[0m\n\u001b[0m\u001b[0;32m      3\u001b[0m \u001b[0mint\u001b[0m\u001b[1;33m(\u001b[0m\u001b[0mmax\u001b[0m\u001b[1;33m(\u001b[0m\u001b[0ml9\u001b[0m\u001b[1;33m)\u001b[0m\u001b[1;33m)\u001b[0m\u001b[1;33m\u001b[0m\u001b[1;33m\u001b[0m\u001b[0m\n",
      "\u001b[1;31mAttributeError\u001b[0m: 'list' object has no attribute 'split'"
     ]
    }
   ],
   "source": [
    "# Given a Python dictionary, Change Brad’s salary to 8500\n",
    "# sampleDict = {\n",
    "#      'emp1': {'name': 'Jhon', 'salary': 7500},\n",
    "#      'emp2': {'name': 'Emma', 'salary': 8000},\n",
    "#      'emp3': {'name': 'Brad', 'salary': 6500}\n",
    "# }\n",
    "\n",
    "# Expected Output\n",
    "# sampleDict = {\n",
    "#      'emp1': {'name': 'Jhon', 'salary': 7500},\n",
    "#      'emp2': {'name': 'Emma', 'salary': 8000},\n",
    "#      'emp3': {'name': 'Brad', 'salary': 8500}\n",
    "# }\n"
   ]
  },
  {
   "cell_type": "code",
   "execution_count": 14,
   "id": "38b597ec",
   "metadata": {},
   "outputs": [
    {
     "name": "stdout",
     "output_type": "stream",
     "text": [
      "{'emp1': {'name': 'Jhon', 'salary': 7500}, 'emp2': {'name': 'Emma', 'salary': 8000}, 'emp3': {'name': 'Brad', 'salary': 8500}}\n"
     ]
    }
   ],
   "source": [
    "sampleDict = {\n",
    "     'emp1': {'name': 'Jhon', 'salary': 7500},\n",
    "     'emp2': {'name': 'Emma', 'salary': 8000},\n",
    "     'emp3': {'name': 'Brad', 'salary': 6500}\n",
    "}\n",
    "\n",
    "sampleDict[\"emp3\"][\"salary\"] = 8500\n",
    "print(sampleDict)\n"
   ]
  },
  {
   "cell_type": "code",
   "execution_count": null,
   "id": "540893e8",
   "metadata": {},
   "outputs": [],
   "source": [
    "# Get the key corresponding to the minimum value from the following dictionary\n",
    "# sampleDict = {\n",
    "#   'Physics': 82,\n",
    "#   'Math': 65,\n",
    "#   'history': 75\n",
    "# }\n",
    "\n",
    "# Expected Output\n",
    "# Math"
   ]
  },
  {
   "cell_type": "code",
   "execution_count": 64,
   "id": "a71fb692",
   "metadata": {},
   "outputs": [
    {
     "name": "stdout",
     "output_type": "stream",
     "text": [
      "Math\n"
     ]
    }
   ],
   "source": [
    "sD = {'Physics': 82, 'Math': 65, 'history': 75}\n",
    "l1 = list(sD.keys()) #No need of square bracket outside. It creates 2d list\n",
    "l2 = list(sD.values())\n",
    "\n",
    "for i in range(len(l2)):\n",
    "    if l2[i] == min(l2):\n",
    "        print(l1[i])\n",
    "\n"
   ]
  },
  {
   "cell_type": "code",
   "execution_count": null,
   "id": "feba640a",
   "metadata": {},
   "outputs": [],
   "source": [
    "# Rename key city to location in the following dictionary\n",
    "# sampleDict = {\n",
    "#   \"name\": \"Kelly\",\n",
    "#   \"age\":25,\n",
    "#   \"salary\": 8000,\n",
    "#   \"city\": \"New york\"\n",
    "# }\n",
    "\n",
    "# Expected Output\n",
    "# {\n",
    "#   \"name\": \"Kelly\",\n",
    "#   \"age\":25,\n",
    "#   \"salary\": 8000,\n",
    "#   \"location\": \"New york\"\n",
    "# }"
   ]
  },
  {
   "cell_type": "code",
   "execution_count": 3,
   "id": "1684e076",
   "metadata": {},
   "outputs": [
    {
     "name": "stdout",
     "output_type": "stream",
     "text": [
      "{'name': 'Kelly', 'age': 25, 'salary': 8000, 'Location': 'New york'}\n"
     ]
    }
   ],
   "source": [
    "sampleDict = {\"name\": \"Kelly\",\"age\":25,\"salary\": 8000,\"city\": \"New york\"}\n",
    "del sampleDict[\"city\"]\n",
    "sampleDict.update({\"Location\":\"New york\"})\n",
    "print(sampleDict)"
   ]
  },
  {
   "cell_type": "code",
   "execution_count": null,
   "id": "544b4fef",
   "metadata": {},
   "outputs": [],
   "source": [
    "# Check if a value 200 exists in a dictionary\n",
    "# sampleDict = {'a': 100, 'b': 200, 'c': 300}\n",
    "\n",
    "# Expected Output: True"
   ]
  },
  {
   "cell_type": "code",
   "execution_count": 8,
   "id": "ebd0903d",
   "metadata": {},
   "outputs": [
    {
     "name": "stdout",
     "output_type": "stream",
     "text": [
      "Enter value to check: 200\n",
      "True\n"
     ]
    }
   ],
   "source": [
    "sampleDict = {'a': 100, 'b': 200, 'c': 300}\n",
    "n = int(input(\"Enter value to check: \"))\n",
    "if n in sampleDict.values():\n",
    "    print(\"True\")\n",
    "else:\n",
    "    print(\"False\")"
   ]
  },
  {
   "cell_type": "code",
   "execution_count": null,
   "id": "791f8894",
   "metadata": {},
   "outputs": [],
   "source": [
    "# Delete set of keys from Python Dictionary\n",
    "# sampleDict = {\n",
    "#   \"name\": \"Kelly\",\n",
    "#   \"age\":25,\n",
    "#   \"salary\": 8000,\n",
    "#   \"city\": \"New york\"\n",
    "  \n",
    "# }\n",
    "# keysToRemove = [\"name\", \"salary\"]\n",
    "\n",
    "# Expected Output:\n",
    "# {'city': 'New york', 'age': 25}"
   ]
  },
  {
   "cell_type": "code",
   "execution_count": 9,
   "id": "48412c63",
   "metadata": {},
   "outputs": [
    {
     "name": "stdout",
     "output_type": "stream",
     "text": [
      "{'age': 25, 'city': 'New york'}\n"
     ]
    }
   ],
   "source": [
    "sampleDict = {\"name\": \"Kelly\", \"age\":25, \"salary\": 8000, \"city\": \"New york\"}\n",
    "keysToRemove = [\"name\", \"salary\"]\n",
    "for i in keysToRemove:\n",
    "    del sampleDict[i]\n",
    "print(sampleDict)"
   ]
  }
 ],
 "metadata": {
  "kernelspec": {
   "display_name": "Python 3",
   "language": "python",
   "name": "python3"
  },
  "language_info": {
   "codemirror_mode": {
    "name": "ipython",
    "version": 3
   },
   "file_extension": ".py",
   "mimetype": "text/x-python",
   "name": "python",
   "nbconvert_exporter": "python",
   "pygments_lexer": "ipython3",
   "version": "3.8.8"
  }
 },
 "nbformat": 4,
 "nbformat_minor": 5
}
