{
 "cells": [
  {
   "cell_type": "code",
   "execution_count": null,
   "id": "a0ebdde8",
   "metadata": {},
   "outputs": [],
   "source": [
    "# Converting number to word from digit"
   ]
  },
  {
   "cell_type": "code",
   "execution_count": 2,
   "id": "ba1c993d",
   "metadata": {},
   "outputs": [
    {
     "name": "stdout",
     "output_type": "stream",
     "text": [
      "Enter Number between 0 to 9: 10\n",
      "Number is out of range\n"
     ]
    }
   ],
   "source": [
    "num = int(input(\"Enter Number between 0 to 9: \"))\n",
    "if num == 0:\n",
    "    print(\"Zero\")\n",
    "elif num == 1:\n",
    "    print(\"One\")\n",
    "elif num == 2:\n",
    "    print(\"Two\")\n",
    "elif num == 3:\n",
    "    print(\"Three\")\n",
    "elif num == 4:\n",
    "    print(\"Four\")\n",
    "elif num == 5:\n",
    "    print(\"Five\")\n",
    "elif num == 6:\n",
    "    print(\"Six\")\n",
    "elif num == 7:\n",
    "    print(\"Seven\")\n",
    "elif num == 8:\n",
    "    print(\"Eight\")\n",
    "elif num == 9:\n",
    "    print(\"Nine\")\n",
    "else:\n",
    "    print(\"Number is out of range\")\n",
    "    exit()\n",
    "# Only one condition can be true, hence we are using elif, to save execution time.\n",
    "# If multiple conditins can be true at same time, we will use ladder if"
   ]
  },
  {
   "cell_type": "code",
   "execution_count": null,
   "id": "43b01772",
   "metadata": {},
   "outputs": [],
   "source": [
    "#Calculator\n",
    "num1 = float(input(\"Enter first number: \"))\n",
    "num2 = float(input(\"Enter second number: \"))\n",
    "op = int(input(\"\"\"Enter the operation to be performed from below:\n",
    "To add, Enter 1\n",
    "To subtract, Enter 2\n",
    "To multiply, Enter 3\n",
    "To divide, Enter 4\n",
    "To divide and find quotient, Enter 5\n",
    "To divide and find remainder, Enter 6\n",
    "To divide and find num1 to the power of num2, Enter 7\n",
    "To come out of the program, Enter 8: \n",
    "\"\"\"))\n",
    "\n",
    "if (op == 1):\n",
    "    num3 = num1 + num2\n",
    "    print(\"The sum is: \", num3)\n",
    "elif (op == 2):\n",
    "    num3 = num1 - num2\n",
    "    print(\"The difference is: \", num3)\n",
    "elif (op == 3):\n",
    "    num3 = num1 * num2\n",
    "    print(\"The product is: \", num3)\n",
    "elif (op == 4):\n",
    "    num3 = num1 / num2\n",
    "    print(\"The division is: \", num3)\n",
    "elif (op == 5):\n",
    "    num3 = num1 / num2\n",
    "    num4 = num1 // num2\n",
    "    print(\"The division is: \", num3, \"The quotient is: \", num4)\n",
    "elif (op == 6):\n",
    "    num3 = num1 / num2\n",
    "    num4 = num1 % num2\n",
    "    print(\"The division is: \", num3, \"The remainder is: \", num4)\n",
    "elif (op == 7):\n",
    "    num3 = num1 / num2\n",
    "    num4 = num1 ** num2\n",
    "    print(\"The division is: \", num3, \"First number to the power of second number is: \", num4)\n",
    "elif (op == 8):\n",
    "    exit()"
   ]
  },
  {
   "cell_type": "code",
   "execution_count": null,
   "id": "cb69345a",
   "metadata": {},
   "outputs": [],
   "source": [
    "#Leap Year"
   ]
  },
  {
   "cell_type": "code",
   "execution_count": null,
   "id": "fa1d0029",
   "metadata": {},
   "outputs": [],
   "source": [
    "year = int(input(\"Enter year to be checked for leap year: \"))\n",
    "if (year % 4 == 0 and not(year % 100) == 0):\n",
    "    print (\"Its a leap year\")\n",
    "elif (year % 400 == 0):\n",
    "    print (\"Its a leap year\")\n",
    "else:\n",
    "    print(\"Its not a leap year\")"
   ]
  },
  {
   "cell_type": "code",
   "execution_count": null,
   "id": "2a5a3c8b",
   "metadata": {},
   "outputs": [],
   "source": [
    "#Odd even"
   ]
  },
  {
   "cell_type": "code",
   "execution_count": null,
   "id": "60178ca1",
   "metadata": {},
   "outputs": [],
   "source": [
    "no = int(input(\"Enter number in integer to be checked for even or odd: \"))\n",
    "print(\"Its an even number\") if (no % 2 == 0) else print(\"Its an odd number\")"
   ]
  },
  {
   "cell_type": "code",
   "execution_count": null,
   "id": "c149221a",
   "metadata": {},
   "outputs": [],
   "source": [
    "#Number comparison using if-else and ternary operator ##DOUBT - All in one line? Ternary operator exact meaning?\n",
    "#How to print string in single line in below program"
   ]
  },
  {
   "cell_type": "code",
   "execution_count": null,
   "id": "f10d2c58",
   "metadata": {},
   "outputs": [],
   "source": [
    "no1 = float(input(\"Enter first number: \"))\n",
    "no2 = float(input(\"Enter second number: \"))\n",
    "if (no1 != no2):\n",
    "    print(\"First number is greater than second number\") if (no1 > no2) else print(\"First number is smaller than second number\")\n",
    "else:\n",
    "    print(\"The numbers are equal\")"
   ]
  },
  {
   "cell_type": "code",
   "execution_count": null,
   "id": "ea00782e",
   "metadata": {},
   "outputs": [],
   "source": [
    "no1 = float(input(\"Enter first number: \"))\n",
    "no2 = float(input(\"Enter second number: \"))\n",
    "no3 = float(input(\"Enter third number: \"))\n",
    "print(\"First number is greater than second number & third number\") if (no1 > no2 and no1 > no3) else print(\"\"\"Second number \n",
    "is greater than first number & third number\"\"\") if (no2 > no1 and no2 > no3) else print(\"\"\"Third number is\n",
    "greater than first number & second number\"\"\") "
   ]
  },
  {
   "cell_type": "code",
   "execution_count": null,
   "id": "65f704ca",
   "metadata": {},
   "outputs": [],
   "source": [
    "#Length of string"
   ]
  },
  {
   "cell_type": "code",
   "execution_count": null,
   "id": "cd181d15",
   "metadata": {},
   "outputs": [],
   "source": [
    "str = input(\"Enter the String: \")\n",
    "for x in range(0,len(str)):\n",
    "    x = x + 1\n",
    "    \n",
    "print(\"The length of string is: \", x)"
   ]
  },
  {
   "cell_type": "code",
   "execution_count": null,
   "id": "e9b5f4cc",
   "metadata": {},
   "outputs": [],
   "source": [
    "# How many times p is repeated"
   ]
  },
  {
   "cell_type": "code",
   "execution_count": null,
   "id": "91075c4d",
   "metadata": {},
   "outputs": [],
   "source": [
    "y=0\n",
    "str = input(\"Enter the String: \")\n",
    "for x in range(0,len(str)):\n",
    "    if (str[x] == 'P' or str[x] == 'p'):\n",
    "        y=y+1\n",
    "    #x = x + 1\n",
    "print(\"The number of times p appeared in the string is: \",y)"
   ]
  },
  {
   "cell_type": "code",
   "execution_count": null,
   "id": "77b94114",
   "metadata": {},
   "outputs": [],
   "source": [
    "# Indexes of all p in string"
   ]
  },
  {
   "cell_type": "code",
   "execution_count": 1,
   "id": "8b198144",
   "metadata": {},
   "outputs": [
    {
     "name": "stdout",
     "output_type": "stream",
     "text": [
      "Enter the String: putin p\n",
      "0\n",
      "6\n"
     ]
    }
   ],
   "source": [
    "str = input(\"Enter the String: \")\n",
    "for x in range(0,len(str)):\n",
    "    if (str[x] == 'P' or str[x] == 'p'):\n",
    "        print(x)\n",
    "    #x = x + 1"
   ]
  },
  {
   "cell_type": "code",
   "execution_count": null,
   "id": "1b1c157a",
   "metadata": {},
   "outputs": [],
   "source": [
    "# Input:- 'peter piper picked a peck of pickled peppers.'\n",
    "# Output:- ['peter', 'piper', 'picked', 'a', 'peck', 'of', 'pickled', 'peppers']\n",
    "#Try using combination of slicing and for loop\n",
    "#Comparision operator and find function"
   ]
  },
  {
   "cell_type": "code",
   "execution_count": 2,
   "id": "012ec9e2",
   "metadata": {},
   "outputs": [
    {
     "name": "stdout",
     "output_type": "stream",
     "text": [
      "Enter String to break it: peter piper picked a peck of pickled peppers.\n",
      "['peter', 'piper', 'picked', 'a', 'peck', 'of', 'pickled', 'peppers.']\n"
     ]
    }
   ],
   "source": [
    "str2 = input(\"Enter String to break it: \")\n",
    "str1 = str2.split()\n",
    "print(str1)"
   ]
  },
  {
   "cell_type": "code",
   "execution_count": null,
   "id": "18339361",
   "metadata": {},
   "outputs": [],
   "source": [
    "#with loop\n",
    "str2 = input(\"Enter String to break it: \")\n",
    "l=[]\n",
    "n=[]\n",
    "k=0\n",
    "for i in range(len(str2)):\n",
    "    if str2[i]==\" \":\n",
    "        l.append(i)\n",
    "l.append(len(str2)-2)\n",
    "print(l)\n",
    "for j in l:\n",
    "    o = str2[k:j+1]\n",
    "    k=j\n",
    "    n.append(o)\n",
    "print(n)"
   ]
  },
  {
   "cell_type": "code",
   "execution_count": null,
   "id": "9b0cf2a6",
   "metadata": {},
   "outputs": [],
   "source": [
    "# Input:- 'peter piper picked a peck of pickled peppers.'\n",
    "# Output:- 'peppers pickled of peck a picked piper peter'\n"
   ]
  },
  {
   "cell_type": "code",
   "execution_count": null,
   "id": "12f8f545",
   "metadata": {},
   "outputs": [],
   "source": [
    "str3 = input(\"Enter String to reverse it: \")\n",
    "str1 = str3.split()\n",
    "str2 = \" \".join(str1[::-1])\n",
    "print(str2)"
   ]
  },
  {
   "cell_type": "code",
   "execution_count": 7,
   "id": "94e240d6",
   "metadata": {},
   "outputs": [
    {
     "name": "stdout",
     "output_type": "stream",
     "text": [
      "Enter String to break it: peter piper picked a peck of pickled peppers.\n",
      "[46, 36, 28, 25, 20, 18, 11, 5, 0]\n",
      "[' peppers.', ' pickled', ' of', ' peck', ' a', ' picked', ' piper', 'peter']\n",
      "  peppers. pickled of peck a picked piper peter\n"
     ]
    }
   ],
   "source": [
    "#with loop\n",
    "str2 = input(\"Enter String to break it: \")\n",
    "l=[len(str2)+1]\n",
    "n=[]\n",
    "k=0\n",
    "d = \" \"\n",
    "for i in range(len(str2),0,-1):\n",
    "    if str2[i-1]==\" \":\n",
    "        l.append(i-1)\n",
    "l.append(0)\n",
    "print(l)\n",
    "for j in range(len(l)-1): \n",
    "    o = str2[l[j+1]:l[j]]\n",
    "    \n",
    "    n.append(o)\n",
    "print(n)\n",
    "for c in range(len(n)-1):\n",
    "    d = d +n[c]\n",
    "\n",
    "d = d + \" \" + n[len(n)-1]\n",
    "print(d)"
   ]
  },
  {
   "cell_type": "code",
   "execution_count": null,
   "id": "c6b727f5",
   "metadata": {},
   "outputs": [],
   "source": [
    "# Input:- 'peter piper picked a peck of pickled peppers.'\n",
    "# Output:- '.sreppep delkcip fo kcep a dekcip repip retep'"
   ]
  },
  {
   "cell_type": "code",
   "execution_count": null,
   "id": "d15fb61b",
   "metadata": {},
   "outputs": [],
   "source": [
    "str = input(\"Enter String to print it in opposite direction: \")\n",
    "str1 = str[::-1]\n",
    "print(str1)"
   ]
  },
  {
   "cell_type": "code",
   "execution_count": 19,
   "id": "99c4f406",
   "metadata": {},
   "outputs": [
    {
     "name": "stdout",
     "output_type": "stream",
     "text": [
      "Enter String to print in opposite direction: peter piper picked a peck of pickled peppers.\n",
      "[46, 36, 28, 25, 20, 18, 11, 5, 0]\n",
      "['.sreppep', ' delkcip', ' fo', ' kcep', ' a', ' dekcip', ' repip', ' rete']\n",
      " .sreppep delkcip fo kcep a dekcip repip retep\n"
     ]
    }
   ],
   "source": [
    "#with loop\n",
    "str2 = input(\"Enter String to print in opposite direction: \")\n",
    "l=[len(str2)+1]\n",
    "n=[]\n",
    "k=0\n",
    "d = \" \"\n",
    "for i in range(len(str2),0,-1):\n",
    "    if str2[i-1]==\" \":\n",
    "        l.append(i-1)\n",
    "l.append(0)\n",
    "print(l)\n",
    "for j in range(len(l)-1): \n",
    "    o = str2[l[j]:l[j+1]:-1]\n",
    "    \n",
    "    n.append(o)\n",
    "print(n)\n",
    "for c in range(len(n)):\n",
    "    d = d +n[c]\n",
    "d = d + str2[0]\n",
    "print(d)"
   ]
  },
  {
   "cell_type": "code",
   "execution_count": null,
   "id": "28b54449",
   "metadata": {},
   "outputs": [],
   "source": [
    "# Input:- 'peter piper picked a peck of pickled peppers.'\n",
    "# Output:- 'retep repip dekcip a kcep fo delkcip sreppep'"
   ]
  },
  {
   "cell_type": "code",
   "execution_count": null,
   "id": "27bf3ea9",
   "metadata": {},
   "outputs": [],
   "source": [
    "str2 = input(\"Enter String to print reverse word in same order: \")\n",
    "str1 = str2.split()\n",
    "#print(type(str1)) First replace . with nothing\n",
    "#print(str1)\n",
    "#print(str1[0])\n",
    "#print(len(str1))\n",
    "for i in range(0, len(str1)):\n",
    "    str1[i] = str1[i][::-1]\n",
    "    #print(str1[i])\n",
    "    i = i + 1\n",
    "print (\" \".join(str1))    "
   ]
  },
  {
   "cell_type": "code",
   "execution_count": 15,
   "id": "40c21f7a",
   "metadata": {},
   "outputs": [
    {
     "name": "stdout",
     "output_type": "stream",
     "text": [
      "Enter String to print reverse word in same order: peter piper picked a peck of pickled peppers.\n",
      "[' retep']\n",
      "  retep repip dekcip a kcep fo delkcip sreppep\n"
     ]
    }
   ],
   "source": [
    "str2 = input(\"Enter String to print reverse word in same order: \")\n",
    "l = []\n",
    "m = []\n",
    "n = \" \"\n",
    "str2 = str2.replace(\".\", \" \")\n",
    "for i in range(len(str2)):\n",
    "    if str2[i] == \" \":\n",
    "        l.append(i)\n",
    "l.append(len(str2))\n",
    "k = l[0]\n",
    "m.append(str2[k::-1]) #Here, if we don't give any end value it will take 0 also, otherwise it will exclude\n",
    "print(m)\n",
    "for j in range(1,len(l)): # 0-7\n",
    "    g = str2[l[j]:k:-1]\n",
    "    m.append(g)\n",
    "    k = l[j]\n",
    "for o in range(len(m)):\n",
    "    n = n + m[o] #concat\n",
    "print(n)"
   ]
  },
  {
   "cell_type": "code",
   "execution_count": null,
   "id": "b0aedefa",
   "metadata": {},
   "outputs": [],
   "source": [
    "# Input:- 'peter piper picked a peck of pickled peppers.'\n",
    "# Output:- 'Peter Piper Picked A Peck Of Pickled Peppers'"
   ]
  },
  {
   "cell_type": "code",
   "execution_count": null,
   "id": "fcf9086b",
   "metadata": {},
   "outputs": [],
   "source": [
    "str = input(\"Enter String to print first letter of word in uppercase: \")\n",
    "str1 = str.split()\n",
    "#print(type(str1))\n",
    "#print(str1)\n",
    "#print(str1[0])\n",
    "#print(len(str1))\n",
    "for i in range(0, len(str1)):\n",
    "    str1[i] = str1[i].title()\n",
    "    #print(str1[i])\n",
    "    i = i + 1\n",
    "print (\" \".join(str1))"
   ]
  },
  {
   "cell_type": "code",
   "execution_count": null,
   "id": "bca59f67",
   "metadata": {},
   "outputs": [],
   "source": [
    "# Input:- 'Peter Piper Picked A Peck Of Pickled Peppers.'\n",
    "# Output:- 'Peter piper picked a peck of pickled peppers'"
   ]
  },
  {
   "cell_type": "code",
   "execution_count": null,
   "id": "4c3cc704",
   "metadata": {},
   "outputs": [],
   "source": [
    "str1 = input(\"Enter String to print first letter of first word in uppercase: \")\n",
    "str2 = str.split()\n",
    "#print(type(str1))\n",
    "#print(str2)\n",
    "#print(str1[0])\n",
    "#print(len(str1))\n",
    "str2[0] = str2[0].title()\n",
    "#print(str2[0])\n",
    "for i in range(1, len(str2)):\n",
    "    str2[i] = str2[i].lower()\n",
    "    #print(str2[i])\n",
    "    i = i + 1\n",
    "print (\" \".join(str2))"
   ]
  },
  {
   "cell_type": "code",
   "execution_count": null,
   "id": "c0e5ef6a",
   "metadata": {},
   "outputs": [],
   "source": [
    "# Input:- my_str = 'Peter Piper Picked A Peck Of Pickled Peppers.', sub_str = 'Pickl'\n",
    "# Output:- 29"
   ]
  },
  {
   "cell_type": "code",
   "execution_count": null,
   "id": "e52e2c82",
   "metadata": {},
   "outputs": [],
   "source": [
    "str1 = input(\"Enter the String: \")\n",
    "str2 = input(\"Enter the substring: \")\n",
    "if str2 in str1:\n",
    "    print(str1.find(str2))\n",
    "else:\n",
    "    print(\"Substring not found\")"
   ]
  },
  {
   "cell_type": "code",
   "execution_count": null,
   "id": "ea0b7a42",
   "metadata": {},
   "outputs": [],
   "source": [
    "#ljust rjust\n",
    "# Input:- 'Peter Piper Picked A Peck Of Pickled Peppers.', sub_str = 'Peck', #Length is 45 #index of peck is 21\n",
    "# Output:- '*********************Peck********************' #21 stars on left and 20 on right"
   ]
  },
  {
   "cell_type": "code",
   "execution_count": 21,
   "id": "4bacda18",
   "metadata": {},
   "outputs": [
    {
     "name": "stdout",
     "output_type": "stream",
     "text": [
      "Enter the String:\n",
      " peter piper picked a peck of pickled peppers.\n",
      "Enter the substring: peck\n",
      "*********************peck********************\n"
     ]
    }
   ],
   "source": [
    "str1 = input(\"Enter the String:\\n \")\n",
    "str2 = input(\"Enter the substring: \")\n",
    "if str2 in str1:\n",
    "    x = int(str1.find(str2))\n",
    "    print(str2.center((2*x+3),\"*\"))\n",
    "else:\n",
    "    print(\"Substring not found\")"
   ]
  },
  {
   "cell_type": "code",
   "execution_count": 29,
   "id": "cfef7a8c",
   "metadata": {},
   "outputs": [
    {
     "name": "stdout",
     "output_type": "stream",
     "text": [
      "Enter the String:\n",
      " peter piper picked a peck of pickled peppers.\n",
      "Enter the substring: peck\n",
      "21\n",
      "25\n",
      "*********************peck********************"
     ]
    }
   ],
   "source": [
    "str1 = input(\"Enter the String:\\n \")\n",
    "str2 = input(\"Enter the substring: \")\n",
    "k = str1.index(str2)\n",
    "m = len(str1) - k + 1\n",
    "for i in range(k):\n",
    "    print(\"*\", end = \"\")\n",
    "print(str2, end = \"\")\n",
    "for j in range(m, len(str1)):\n",
    "    print(\"*\", end = \"\")\n",
    "    "
   ]
  },
  {
   "cell_type": "code",
   "execution_count": null,
   "id": "1f9424f4",
   "metadata": {},
   "outputs": [],
   "source": [
    "len(str1)"
   ]
  },
  {
   "cell_type": "code",
   "execution_count": null,
   "id": "3e020b5f",
   "metadata": {},
   "outputs": [],
   "source": [
    "# Input:- 'This is Python class', sep = ' is', \n",
    "# Output:- ['This', 'is', 'Python class']\n",
    "#Doubt"
   ]
  },
  {
   "cell_type": "code",
   "execution_count": 30,
   "id": "ff689d7f",
   "metadata": {},
   "outputs": [
    {
     "name": "stdout",
     "output_type": "stream",
     "text": [
      "Enter the String:\n",
      " This is Python class\n",
      "['This ', ' Python class']\n"
     ]
    }
   ],
   "source": [
    "str1 = input(\"Enter the String:\\n \")\n",
    "str2 = str1.rsplit(\"is\", maxsplit =1 )#Default value of maxsplit is -1, means unlimited splits\n",
    "\n",
    "print(str2, sep = \"is\")"
   ]
  }
 ],
 "metadata": {
  "kernelspec": {
   "display_name": "Python 3",
   "language": "python",
   "name": "python3"
  },
  "language_info": {
   "codemirror_mode": {
    "name": "ipython",
    "version": 3
   },
   "file_extension": ".py",
   "mimetype": "text/x-python",
   "name": "python",
   "nbconvert_exporter": "python",
   "pygments_lexer": "ipython3",
   "version": "3.8.8"
  }
 },
 "nbformat": 4,
 "nbformat_minor": 5
}
