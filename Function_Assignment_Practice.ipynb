{
 "cells": [
  {
   "cell_type": "code",
   "execution_count": null,
   "id": "925d7787",
   "metadata": {},
   "outputs": [],
   "source": [
    "# Define a function calls addNumber(x, y) that takes in two number and returns the sum of the two numbers."
   ]
  },
  {
   "cell_type": "code",
   "execution_count": 3,
   "id": "5ceb4090",
   "metadata": {},
   "outputs": [
    {
     "name": "stdout",
     "output_type": "stream",
     "text": [
      "First Number: 3\n",
      "Second Number: 5\n",
      "Sum of two numbers:  8\n"
     ]
    }
   ],
   "source": [
    "def addnumber(a,b):\n",
    "    c= a+b\n",
    "    print(\"Sum of two numbers: \",c)\n",
    "\n",
    "x = int(input(\"First Number: \"))\n",
    "y = int(input(\"Second Number: \"))\n",
    "addnumber(x,y)"
   ]
  },
  {
   "cell_type": "code",
   "execution_count": null,
   "id": "0f03ecc0",
   "metadata": {},
   "outputs": [],
   "source": [
    "# Define a function calls subtractNumber(x, y) that takes in two numbers and returns the difference of the two numbers."
   ]
  },
  {
   "cell_type": "code",
   "execution_count": 5,
   "id": "390567cb",
   "metadata": {},
   "outputs": [
    {
     "name": "stdout",
     "output_type": "stream",
     "text": [
      "First Number: 5\n",
      "Second Number: 2\n",
      "Difference of two numbers is:  3\n"
     ]
    }
   ],
   "source": [
    "def subtractNumber(a,b):\n",
    "    c = a- b\n",
    "    return c\n",
    "\n",
    "x = int(input(\"First Number: \"))\n",
    "y = int(input(\"Second Number: \"))\n",
    "d = subtractNumber(x,y)\n",
    "print(\"Difference of two numbers is: \", d)"
   ]
  },
  {
   "cell_type": "code",
   "execution_count": null,
   "id": "9be3ab49",
   "metadata": {},
   "outputs": [],
   "source": [
    "# Write a function getBiggerNumber(x, y) that takes in two numbers as arguments and returns the bigger number."
   ]
  },
  {
   "cell_type": "code",
   "execution_count": 6,
   "id": "bf5f7a6e",
   "metadata": {},
   "outputs": [
    {
     "name": "stdout",
     "output_type": "stream",
     "text": [
      "First Number: 23\n",
      "Second Number: 39\n",
      "Greater number is:  39\n"
     ]
    }
   ],
   "source": [
    "def getBiggerNumber(a,b):\n",
    "    if a>b:\n",
    "        return a\n",
    "    else:\n",
    "        return b\n",
    "\n",
    "x = int(input(\"First Number: \"))\n",
    "y = int(input(\"Second Number: \"))\n",
    "c = getBiggerNumber(x,y)\n",
    "print(\"Greater number is: \", c)"
   ]
  },
  {
   "cell_type": "code",
   "execution_count": null,
   "id": "9da19e3b",
   "metadata": {},
   "outputs": [],
   "source": [
    "# Python provides many built-in modules with many useful functions. \n",
    "# One such module is the math module. The math module provides many useful functions such as sqrt(x), pow(x, y), ceil(x), floor(x) etc. \n",
    "# You will need to do a \"import math\" before you are allowed to use the functions within the math module.\n",
    "\n",
    "\n",
    "# Calculate the square root of 16 and stores it in the variable a\n",
    "\n",
    "\n",
    "# Calculate 3 to the power of 5 and stores it in the variable b\n",
    "\n",
    "\n",
    "# Calculate area of circle with radius = 3.0 by making use of the math.pi constant and store it in the variable c"
   ]
  },
  {
   "cell_type": "code",
   "execution_count": 7,
   "id": "dc68889b",
   "metadata": {},
   "outputs": [
    {
     "name": "stdout",
     "output_type": "stream",
     "text": [
      "4.0 243.0 28.274333882308138\n"
     ]
    }
   ],
   "source": [
    "import math\n",
    "\n",
    "def calc():\n",
    "    a = math.sqrt(16)\n",
    "    b = math.pow(3,5)\n",
    "    c = math.pi*9\n",
    "    \n",
    "    print(a,b,c)\n",
    "    \n",
    "calc()"
   ]
  },
  {
   "cell_type": "code",
   "execution_count": null,
   "id": "a4a1ccb2",
   "metadata": {},
   "outputs": [],
   "source": [
    "# Write a function to convert temperature from Celsius to Fahrenheit scale.\n",
    "# oC to oF Conversion: Multipy by 9, then divide by 5, then add 32.\n",
    "\n",
    "# Note: Return a string of 2 decimal places.\n",
    "# In - Cel2Fah(28.0)\n",
    "# Out - '82.40'\n",
    "# In - Cel2Fah(0.00)\n",
    "# Out - '32.00'"
   ]
  },
  {
   "cell_type": "code",
   "execution_count": 11,
   "id": "116b64ed",
   "metadata": {},
   "outputs": [
    {
     "name": "stdout",
     "output_type": "stream",
     "text": [
      "Enter temp in celsius: 28\n",
      "The temp in faherienheit is 82.40\n"
     ]
    }
   ],
   "source": [
    "def temp(c):\n",
    "    f = (c)*(9/5)+32\n",
    "    return f\n",
    "d = float(input(\"Enter temp in celsius: \"))\n",
    "g = temp(d)\n",
    "print(\"The temp in faherienheit is %0.2f\"%(g))"
   ]
  },
  {
   "cell_type": "code",
   "execution_count": null,
   "id": "6fdf422f",
   "metadata": {},
   "outputs": [],
   "source": [
    "# Write a function to compute the BMI of a person.\n",
    "#     BMI = weight(kg)  /  ( height(m)*height(m) )\n",
    "\n",
    "# Note: Return a string of 1 decimal place.\n",
    "# In - BMI(63, 1.7)\n",
    "# Out - '21.8'\n",
    "# In - BMI(110, 2)\n",
    "# Out - '27.5'"
   ]
  },
  {
   "cell_type": "code",
   "execution_count": 14,
   "id": "f4680fd9",
   "metadata": {},
   "outputs": [
    {
     "name": "stdout",
     "output_type": "stream",
     "text": [
      "Enter weight in kg 63\n",
      "Enter height in m 1.7\n",
      "BMI: 21.8\n"
     ]
    }
   ],
   "source": [
    "def bmi(a,b):\n",
    "    c = a/(b**2)\n",
    "    return c\n",
    "x  = float(input(\"Enter weight in kg \"))\n",
    "y = float(input(\"Enter height in m \"))\n",
    "z = bmi(x,y)\n",
    "print(\"BMI: %0.1f\"%(z))"
   ]
  },
  {
   "cell_type": "code",
   "execution_count": null,
   "id": "359518e5",
   "metadata": {},
   "outputs": [],
   "source": [
    "# Write a function percent(value, total) that takes in two numbers as arguments, and returns the percentage value as an integer.\n",
    "# In - percent(46, 90)\n",
    "# Out - 51\n",
    "# In - percent(51, 51)\n",
    "# Out - 100\n",
    "# In - percent(63, 12)\n",
    "# Out - 525"
   ]
  },
  {
   "cell_type": "code",
   "execution_count": 22,
   "id": "ce57548d",
   "metadata": {},
   "outputs": [
    {
     "name": "stdout",
     "output_type": "stream",
     "text": [
      "Enter value: 51\n",
      "Enter total: 51\n",
      "Percent is:  100.0\n"
     ]
    }
   ],
   "source": [
    "def percent(a,b):\n",
    "    p = (a*100)/b\n",
    "    return p\n",
    "x = float(input(\"Enter value: \"))\n",
    "y = float(input(\"Enter total: \"))\n",
    "z = percent(x,y)\n",
    "print(\"Percent is: \",round(z,0))"
   ]
  },
  {
   "cell_type": "code",
   "execution_count": null,
   "id": "7672d2a3",
   "metadata": {},
   "outputs": [],
   "source": [
    "# Write a function to compute the hypotenuse given sides a and b of the triangle.\n",
    "# Hint: You can use math.sqrt(x) to compute the square root of x.\n",
    "# In - hypotenuse(3, 4)\n",
    "# Out - 5\n",
    "# In - hypotenuse(5, 12)\n",
    "# Out - 13"
   ]
  },
  {
   "cell_type": "code",
   "execution_count": 24,
   "id": "72fce9d0",
   "metadata": {},
   "outputs": [
    {
     "name": "stdout",
     "output_type": "stream",
     "text": [
      "Enter 1st side of triangle: 3\n",
      "Enter 2nd side of triangle: 4\n",
      "Hypotenuse is:  5.0\n"
     ]
    }
   ],
   "source": [
    "import math\n",
    "def hypo(a,b):\n",
    "    c = math.sqrt((a*a)+(b*b))\n",
    "    return c\n",
    "\n",
    "x = float(input(\"Enter 1st side of triangle: \"))\n",
    "y = float(input(\"Enter 2nd side of triangle: \"))\n",
    "d = hypo(x,y)\n",
    "print(\"Hypotenuse is: \", d)"
   ]
  },
  {
   "cell_type": "code",
   "execution_count": null,
   "id": "00dd2f75",
   "metadata": {},
   "outputs": [],
   "source": [
    "# Write a function getSumOfLastDigits() that takes in a list of positive numbers and returns the sum of all the last digits in the list.\n",
    "# getSumOfLastDigits([2, 3, 4])\n",
    "# 9\n",
    "# getSumOfLastDigits([1, 23, 456])\n",
    "# 10"
   ]
  },
  {
   "cell_type": "code",
   "execution_count": 51,
   "id": "197e408c",
   "metadata": {},
   "outputs": [
    {
     "name": "stdout",
     "output_type": "stream",
     "text": [
      "Enter positive integers: 1\n",
      "Enter positive integers: 23\n",
      "Enter positive integers: 456\n",
      "Enter positive integers: 0\n",
      "Sum of last digits of list is  10\n"
     ]
    }
   ],
   "source": [
    "def sold(z,*y):\n",
    "    \n",
    "    p = list(y)\n",
    "    sum1 = 0\n",
    "    sm = 0\n",
    "    for i in range(z):\n",
    "        sm = int(p[0][i][-1:-2:-1])\n",
    "        sum1+=sm\n",
    "    return sum1\n",
    "    \n",
    "l = []\n",
    "x=1\n",
    "while(x==1):\n",
    "    ele = input(\"Enter positive integers: \")\n",
    "    if ele == \"0\":\n",
    "        x = 0\n",
    "    else:\n",
    "        l.append(ele)\n",
    "t=len(l)\n",
    "sd = sold(t,l)\n",
    "print(\"Sum of last digits of list is \",sd)"
   ]
  },
  {
   "cell_type": "code",
   "execution_count": null,
   "id": "86c9a8a3",
   "metadata": {},
   "outputs": [],
   "source": [
    "# Write a function that uses a default value.\n",
    "# In - introduce('Lim', 20)\n",
    "# Out - 'My name is Lim. I am 20 years old.'\n",
    "# In - introduce('Ahmad')\n",
    "# Out - 'My name is Ahmad. My age is secret.'"
   ]
  },
  {
   "cell_type": "code",
   "execution_count": 54,
   "id": "760e6f2c",
   "metadata": {},
   "outputs": [
    {
     "name": "stdout",
     "output_type": "stream",
     "text": [
      "Enter name: Ahmad\n",
      "Enter age: \n",
      "My name is  Ahmad . I am secret years old.\n"
     ]
    }
   ],
   "source": [
    "def introduce(a, b = 'secret'):\n",
    "    print(\"My name is \",a,\". I am\",b,\"years old.\")\n",
    "\n",
    "c = input(\"Enter name: \")\n",
    "d = input(\"Enter age: \")\n",
    "introduce(c)"
   ]
  },
  {
   "cell_type": "code",
   "execution_count": null,
   "id": "6dd8a031",
   "metadata": {},
   "outputs": [],
   "source": [
    "# Write a function isEquilateral(x, y, z) that accepts the 3 sides of a triangle as arguments. \n",
    "# The program should return True if it is an equilateral triangle.\n",
    "\n",
    "# In - isEquilateral(2, 4, 3)\n",
    "# False - False\n",
    "# In - isEquilateral(3, 3, 3)\n",
    "# Out - True\n",
    "# In - isEquilateral(-3, -3, -3)\n",
    "# Out - False"
   ]
  },
  {
   "cell_type": "code",
   "execution_count": 60,
   "id": "3a8b0cdf",
   "metadata": {},
   "outputs": [
    {
     "name": "stdout",
     "output_type": "stream",
     "text": [
      "Enter 1st side of triangle: -3\n",
      "Enter 2nd side of triangle: -3\n",
      "Enter 3rd side of triangle: -3\n",
      "False\n"
     ]
    }
   ],
   "source": [
    "def Equi(x,y,z):\n",
    "    if x == y == z and x>0 and y>0 and z>0:\n",
    "        print(\"True\")\n",
    "    else:\n",
    "        print(\"False\")\n",
    "        \n",
    "a = int(input(\"Enter 1st side of triangle: \"))\n",
    "b = int(input(\"Enter 2nd side of triangle: \"))\n",
    "c = int(input(\"Enter 3rd side of triangle: \"))\n",
    "Equi(a,b,c)"
   ]
  },
  {
   "cell_type": "code",
   "execution_count": null,
   "id": "cee6ea7f",
   "metadata": {},
   "outputs": [],
   "source": [
    "# For a quadratic equation in the form of ax2+bx+c, the discriminant, D is b2-4ac. Write a function to compute the discriminant, D.\n",
    "# In - quadratic(1, 2, 3)\n",
    "# Out - 'The discriminant is -8.'\n",
    "# In - quadratic(1, 3, 2)\n",
    "# Out - 'The discriminant is 1.'\n",
    "# In - quadratic(1, 4, 4)\n",
    "# Out - 'The discriminant is 0.'"
   ]
  },
  {
   "cell_type": "code",
   "execution_count": 64,
   "id": "3842253a",
   "metadata": {},
   "outputs": [
    {
     "name": "stdout",
     "output_type": "stream",
     "text": [
      "Enter a of equation: 1\n",
      "Enter b of equation: 4\n",
      "Enter c of equation: 4\n",
      "The discriminant is:  0\n"
     ]
    }
   ],
   "source": [
    "def quad(a,b,c):\n",
    "    d = (b*b)-(4*a*c)\n",
    "    print(\"The discriminant is: \", d)\n",
    "    \n",
    "x = int(input(\"Enter a of equation: \"))\n",
    "y = int(input(\"Enter b of equation: \"))\n",
    "z = int(input(\"Enter c of equation: \"))\n",
    "quad(x,y,z)"
   ]
  },
  {
   "cell_type": "code",
   "execution_count": null,
   "id": "7ef5c4dc",
   "metadata": {},
   "outputs": [],
   "source": [
    "# Define a function calls addFirstAndLast(x) that takes in a list of numbers and returns the sum of the first and last numbers.\n",
    "# In - addFirstAndLast([])\n",
    "# Out - 0\n",
    "# In - addFirstAndLast([2, 7, 3])\n",
    "# Out - 5\n",
    "# In - addFirstAndLast([10])\n",
    "# Out - 10"
   ]
  },
  {
   "cell_type": "code",
   "execution_count": 67,
   "id": "1f670974",
   "metadata": {},
   "outputs": [
    {
     "name": "stdout",
     "output_type": "stream",
     "text": [
      "Enter positive integers: 0\n",
      "Sum of last digits of list is  0\n"
     ]
    }
   ],
   "source": [
    "def sfld(z,*y):\n",
    "    \n",
    "    p = list(y)\n",
    "    sum1 = 0\n",
    "    sm = 0\n",
    "    sd = 0\n",
    "    for i in range(z):\n",
    "        sm = int(p[0][0])\n",
    "        sd = int(p[0][z-1])\n",
    "        sum1 = sm+sd\n",
    "    return sum1\n",
    "    \n",
    "l = []\n",
    "x=1\n",
    "while(x==1):\n",
    "    ele = input(\"Enter positive integers: \")\n",
    "    if ele == \"0\":\n",
    "        x = 0\n",
    "    else:\n",
    "        l.append(ele)\n",
    "t=len(l)\n",
    "sd = sfld(t,l)\n",
    "print(\"Sum of last digits of list is \",sd)"
   ]
  },
  {
   "cell_type": "code",
   "execution_count": 69,
   "id": "7dce45d6",
   "metadata": {},
   "outputs": [
    {
     "data": {
      "text/plain": [
       "False"
      ]
     },
     "execution_count": 69,
     "metadata": {},
     "output_type": "execute_result"
    }
   ],
   "source": [
    "#Doubt-What to do?\n",
    "# Complete the 'lambda' expression so that it returns True if the argument is an even number, and False otherwise.\n",
    "#lambda arguments:condition\n",
    "leven = (lambda num : True if num%2 == 0 else False)\n",
    "leven(7)"
   ]
  },
  {
   "cell_type": "code",
   "execution_count": null,
   "id": "c5a564a1",
   "metadata": {},
   "outputs": [],
   "source": [
    "#Doubt - What is this?\n",
    "\n",
    "# getScore.__doc__\n",
    "# 'A function that computes and returns the final score.'\n",
    "\n",
    "def getScore():\n",
    "  ''''A function that computes and returns the final score.'''\n",
    "  pass\n",
    "getScore.__doc__"
   ]
  },
  {
   "cell_type": "code",
   "execution_count": null,
   "id": "108bb5ef",
   "metadata": {},
   "outputs": [],
   "source": [
    "#Doubt - What to do?\n",
    "# In Python, it is possible to pass a function as a argument to another function. \n",
    "# Write a function useFunction(func, num) that takes in a function and a number as arguments. \n",
    "# The useFunction should produce the output shown in the examples given below.\n",
    "\n",
    "# def addOne(x):\n",
    "#   return x + 1\n",
    "# useFunction(addOne, 4)\n",
    "# 25\n",
    "# useFunction(addOne, 9)\n",
    "# 100\n",
    "# useFunction(addOne, 0)\n",
    "# 1\n",
    "\n",
    "\n",
    "def addOne(x):\n",
    "    return x + 1\n",
    "\n",
    "def useFunction(addOne, n):\n",
    "    print(addOne(n)**2)\n",
    "\n",
    "useFunction(addOne, 0)\n",
    "\n",
    "\n"
   ]
  },
  {
   "cell_type": "code",
   "execution_count": null,
   "id": "10438c09",
   "metadata": {},
   "outputs": [],
   "source": [
    "#Doubt - What to do?\n",
    "# def f1():\n",
    "#   print('This is f1 function')\n",
    "#   f1()\n",
    "# f1()"
   ]
  },
  {
   "cell_type": "code",
   "execution_count": 71,
   "id": "26f5bcf3",
   "metadata": {},
   "outputs": [
    {
     "name": "stdout",
     "output_type": "stream",
     "text": [
      "This is f1 function\n"
     ]
    }
   ],
   "source": [
    "def f1():\n",
    "    print('This is f1 function')\n",
    "f1()"
   ]
  }
 ],
 "metadata": {
  "kernelspec": {
   "display_name": "Python 3",
   "language": "python",
   "name": "python3"
  },
  "language_info": {
   "codemirror_mode": {
    "name": "ipython",
    "version": 3
   },
   "file_extension": ".py",
   "mimetype": "text/x-python",
   "name": "python",
   "nbconvert_exporter": "python",
   "pygments_lexer": "ipython3",
   "version": "3.8.8"
  }
 },
 "nbformat": 4,
 "nbformat_minor": 5
}
