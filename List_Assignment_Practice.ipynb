{
 "cells": [
  {
   "cell_type": "code",
   "execution_count": null,
   "id": "87168b46",
   "metadata": {},
   "outputs": [],
   "source": [
    "#Write a Python program to find the sum of all elements in a list using loop.\n",
    "#Input:- [10,20,30,40]\n",
    "#Output:- 100"
   ]
  },
  {
   "cell_type": "code",
   "execution_count": 5,
   "id": "bf207c1b",
   "metadata": {},
   "outputs": [
    {
     "name": "stdout",
     "output_type": "stream",
     "text": [
      "Enter elements for sum, 0 to stop 2\n",
      "Enter elements for sum, 0 to stop 3\n",
      "Enter elements for sum, 0 to stop 4\n",
      "Enter elements for sum, 0 to stop 0\n",
      "[2, 3, 4]\n",
      "9\n"
     ]
    }
   ],
   "source": [
    "l=[]\n",
    "sum1 = 0\n",
    "x=1\n",
    "while(x!=0):\n",
    "    ele = int(input(\"Enter elements for sum, 0 to stop \"))\n",
    "    if ele == 0:\n",
    "        break\n",
    "    else:\n",
    "        l.append(ele)\n",
    "print(l)\n",
    "for i in range(len(l)):\n",
    "    sum1+=l[i]\n",
    "print(sum1)"
   ]
  },
  {
   "cell_type": "code",
   "execution_count": null,
   "id": "4b76fb90",
   "metadata": {},
   "outputs": [],
   "source": [
    "#Write a Python program to find the multiplication of all elements in a list using loop.\n",
    "#Input:- [10,20,30,40]\n",
    "#Output:- 240000"
   ]
  },
  {
   "cell_type": "code",
   "execution_count": 6,
   "id": "997bf7c4",
   "metadata": {},
   "outputs": [
    {
     "name": "stdout",
     "output_type": "stream",
     "text": [
      "Enter elements for sum, 0 to stop 2\n",
      "Enter elements for sum, 0 to stop 3\n",
      "Enter elements for sum, 0 to stop 4\n",
      "Enter elements for sum, 0 to stop 0\n",
      "[2, 3, 4]\n",
      "24\n"
     ]
    }
   ],
   "source": [
    "l=[]\n",
    "sum1 = 1\n",
    "x=1\n",
    "while(x!=0):\n",
    "    ele = int(input(\"Enter elements for sum, 0 to stop \"))\n",
    "    if ele == 0:\n",
    "        break\n",
    "    else:\n",
    "        l.append(ele)\n",
    "print(l)\n",
    "for i in range(len(l)):\n",
    "    sum1*=l[i]\n",
    "print(sum1)"
   ]
  },
  {
   "cell_type": "code",
   "execution_count": null,
   "id": "07eb7e88",
   "metadata": {},
   "outputs": [],
   "source": [
    "#Write a Python program to find the largest number from a list using loop.\n",
    "#Input:- [10,100,2321, 1,200,2]\n",
    "#Output:- 2321"
   ]
  },
  {
   "cell_type": "code",
   "execution_count": 13,
   "id": "bb2303aa",
   "metadata": {},
   "outputs": [
    {
     "name": "stdout",
     "output_type": "stream",
     "text": [
      "Enter elements, 0 to stop 2321\n",
      "Enter elements, 0 to stop 10\n",
      "Enter elements, 0 to stop 100\n",
      "Enter elements, 0 to stop 2325\n",
      "Enter elements, 0 to stop 2377\n",
      "Enter elements, 0 to stop 1\n",
      "Enter elements, 0 to stop 200\n",
      "Enter elements, 0 to stop 2\n",
      "Enter elements, 0 to stop 0\n",
      "[2321, 10, 100, 2325, 2377, 1, 200, 2]\n",
      "If block 2\n",
      "If block 3\n",
      "2377\n"
     ]
    }
   ],
   "source": [
    "l=[]\n",
    "c = \"0\"\n",
    "x=1\n",
    "while(x!=0):\n",
    "    ele = int(input(\"Enter elements, 0 to stop \"))\n",
    "    if ele == 0:\n",
    "        break\n",
    "    else:\n",
    "        l.append(ele)\n",
    "print(l)\n",
    "n = len(l)\n",
    "c = l[0]\n",
    "for i in range(n-1):#4 numbers, so 3 comparisions\n",
    "    if c < l[i+1]:\n",
    "        c = l[i+1]\n",
    "print(c)\n",
    "        "
   ]
  },
  {
   "cell_type": "code",
   "execution_count": null,
   "id": "e45cc224",
   "metadata": {},
   "outputs": [],
   "source": [
    "#Write a Python program to find the smallest number from a list using loop.\n",
    "#Input:- [10,100,2321, 1,200,2]\n",
    "#Output:- 1"
   ]
  },
  {
   "cell_type": "code",
   "execution_count": 15,
   "id": "41ea6673",
   "metadata": {},
   "outputs": [
    {
     "name": "stdout",
     "output_type": "stream",
     "text": [
      "Enter elements, 0 to stop 2375\n",
      "Enter elements, 0 to stop 10\n",
      "Enter elements, 0 to stop 100\n",
      "Enter elements, 0 to stop 2321\n",
      "Enter elements, 0 to stop 1\n",
      "Enter elements, 0 to stop 200\n",
      "Enter elements, 0 to stop 2\n",
      "Enter elements, 0 to stop 0\n",
      "[2375, 10, 100, 2321, 1, 200, 2]\n",
      "1\n"
     ]
    }
   ],
   "source": [
    "l=[]\n",
    "c = \"0\"\n",
    "x=1\n",
    "while(x!=0):\n",
    "    ele = int(input(\"Enter elements, 0 to stop \"))\n",
    "    if ele == 0:\n",
    "        break\n",
    "    else:\n",
    "        l.append(ele)\n",
    "print(l)\n",
    "n = len(l)\n",
    "c = l[0]\n",
    "for i in range(n-1):#4 numbers, so 3 comparisions\n",
    "    if c > l[i+1]:\n",
    "        c = l[i+1]\n",
    "print(c)"
   ]
  },
  {
   "cell_type": "code",
   "execution_count": null,
   "id": "29d7d652",
   "metadata": {},
   "outputs": [],
   "source": [
    "#Write a Python program to count the number of strings having length more than 2 and are palindrome in a list using loop.\n",
    "#Input:- ['ab', 'abc', 'aba', 'xyz', '1991']\n",
    "#Output:- 2"
   ]
  },
  {
   "cell_type": "code",
   "execution_count": 18,
   "id": "bb667ccc",
   "metadata": {},
   "outputs": [
    {
     "name": "stdout",
     "output_type": "stream",
     "text": [
      "Enter elements, 0 to stop ab\n",
      "Enter elements, 0 to stop abc\n",
      "Enter elements, 0 to stop aba\n",
      "Enter elements, 0 to stop xyz\n",
      "Enter elements, 0 to stop nitin\n",
      "Enter elements, 0 to stop 1991\n",
      "Enter elements, 0 to stop 0\n",
      "['ab', 'abc', 'aba', 'xyz', 'nitin', '1991']\n",
      "3\n"
     ]
    }
   ],
   "source": [
    "l=[]\n",
    "c = \"0\"\n",
    "d=0\n",
    "x=1\n",
    "while(x!=\"0\"):\n",
    "    ele = input(\"Enter elements, 0 to stop \")\n",
    "    if ele == \"0\":\n",
    "        break\n",
    "    else:\n",
    "        l.append(ele)\n",
    "print(l)\n",
    "n = len(l)\n",
    "for i in range(len(l)):\n",
    "    if len(l[i]) >2 and l[i][::]==l[i][::-1]:\n",
    "        d+=1\n",
    "print(d)"
   ]
  },
  {
   "cell_type": "code",
   "execution_count": null,
   "id": "eb6945a5",
   "metadata": {},
   "outputs": [],
   "source": [
    "#Write a Python program to sort a list in ascending order using loop.\n",
    "#Input:- [100,10,1,298,65,483,49876,2,80,9,9213]\n",
    "#Output:- [1,2,9,10,65,80,100,298,483,9213,49876]\n",
    "#Doubt - Optimized code?"
   ]
  },
  {
   "cell_type": "code",
   "execution_count": 41,
   "id": "7dea4eff",
   "metadata": {},
   "outputs": [
    {
     "name": "stdout",
     "output_type": "stream",
     "text": [
      "[1, 2, 9, 10, 65, 80, 100, 298, 483, 9213, 49876]\n"
     ]
    }
   ],
   "source": [
    "l = [100,10,1,298,65,483,49876,2,80,9,9213]\n",
    "\n",
    "for i in range(len(l)-1):\n",
    "        if l[i+1] < l[i]:\n",
    "            a = l[i+1]\n",
    "            b = l[i]\n",
    "            l[i+1] = b\n",
    "            l[i] = a\n",
    "            \n",
    "            for j in range(i):\n",
    "                if l[i]<l[j]:\n",
    "                    d = l[i]\n",
    "                    e= l[j]\n",
    "                    l[j] = d\n",
    "                    l[i] = e\n",
    "print(l)"
   ]
  },
  {
   "cell_type": "code",
   "execution_count": null,
   "id": "eb4b1f56",
   "metadata": {},
   "outputs": [],
   "source": [
    "#Write a Python program to get a sorted list in increasing order of last element in each tuple in a given list using loop.\n",
    "#Input:- [(5,4),(9,1),(2,3),(5,9),(7,6),(5,5)]\n",
    "#output:- [(9,1),(2,3),(5,4),(5,5),(7,6),(5,9)]\n",
    "#Doubt? Optimized code?"
   ]
  },
  {
   "cell_type": "code",
   "execution_count": 85,
   "id": "15bf77ef",
   "metadata": {
    "scrolled": true
   },
   "outputs": [
    {
     "name": "stdout",
     "output_type": "stream",
     "text": [
      "[(9, 1), (2, 3), (5, 4), (7, 6), (5, 5), (5, 9)]\n"
     ]
    }
   ],
   "source": [
    "l = [(5,4),(9,1),(2,3),(5,9),(7,6),(5,5)]\n",
    "for i in range((len(l)-1)):\n",
    "    if l[i][1] > l[i+1][1]:\n",
    "        a = l[i]\n",
    "        b = l[i+1]\n",
    "        l[i+1] = a\n",
    "        l[i] = b\n",
    "    for j in range(i):\n",
    "        if l[i][1]<l[j][1]:\n",
    "            d=l[j]\n",
    "            e=l[i]\n",
    "            l[i] = d\n",
    "            l[j] = e\n",
    "    \n",
    "print(l)"
   ]
  },
  {
   "cell_type": "code",
   "execution_count": null,
   "id": "f539c28d",
   "metadata": {},
   "outputs": [],
   "source": [
    "#Write a Python program to remove duplicate element from a list using loop.\n",
    "#Input:- [10,1,11,1,29,876,768,10,11,1,92,29,876]\n",
    "#Output:- [10,1,11,29,876,768,92]"
   ]
  },
  {
   "cell_type": "code",
   "execution_count": 49,
   "id": "2579c4c1",
   "metadata": {},
   "outputs": [
    {
     "name": "stdout",
     "output_type": "stream",
     "text": [
      "[10, 1, 11, 1, 29, 876, 768, 10, 11, 1, 92, 29, 876]\n",
      "[10, 1, 11, 1, 29, 876, 768, 10, 11, 1, 92, 29, 876]\n",
      "[10, 1, 11, 29, 876, 768, 92]\n"
     ]
    }
   ],
   "source": [
    "l = [10,1,11,1,29,876,768,10,11,1,92,29,876]\n",
    "l2=[]\n",
    "\n",
    "for i in range(len(l)):\n",
    "    if l[i] not in l2:\n",
    "        l2.append(l[i])\n",
    "        \n",
    "print(l2)"
   ]
  },
  {
   "cell_type": "code",
   "execution_count": 12,
   "id": "e34b1e22",
   "metadata": {},
   "outputs": [
    {
     "name": "stdout",
     "output_type": "stream",
     "text": [
      "{768, 1, 10, 11, 876, 92, 29}\n"
     ]
    }
   ],
   "source": [
    "#Write a Python program to check a list is empty or not?\n",
    "#Input:- []\n",
    "#Output:- List is empty\n",
    "#Input:- [10,20,30]\n",
    "#Output:- List is not empty"
   ]
  },
  {
   "cell_type": "code",
   "execution_count": 64,
   "id": "44823c27",
   "metadata": {},
   "outputs": [
    {
     "name": "stdout",
     "output_type": "stream",
     "text": [
      "Enter items in list, 0 to stop: 2\n",
      "Enter items in list, 0 to stop: 0\n",
      "List not empty\n"
     ]
    }
   ],
   "source": [
    "x=1\n",
    "l=[]\n",
    "while (x==1):\n",
    "    ele = input(\"Enter items in list, 0 to stop: \")\n",
    "    if ele == \"0\":\n",
    "        x = 0\n",
    "    else:\n",
    "        l.append(ele)\n",
    "if len(l) == 0:\n",
    "    print(\"List Empty\")\n",
    "else:\n",
    "    print(\"List not empty\")"
   ]
  },
  {
   "cell_type": "code",
   "execution_count": null,
   "id": "b683bfcc",
   "metadata": {},
   "outputs": [],
   "source": [
    "#Write a Python program to copy a list using loop.\n",
    "#inp_lst = [10,10.20,10+20j, 'Python', [10,20], (10,20)]\n",
    "#out_lst = [10,10.20,10+20j, 'Python', [10,20], (10,20)]"
   ]
  },
  {
   "cell_type": "code",
   "execution_count": 70,
   "id": "18e3141f",
   "metadata": {},
   "outputs": [
    {
     "name": "stdout",
     "output_type": "stream",
     "text": [
      "[10, 10.2, (10+20j), 'Python', [10, 20], (10, 20)]\n"
     ]
    }
   ],
   "source": [
    "l1 = [10,10.20,10+20j, 'Python', [10,20], (10,20)]\n",
    "l2 = []\n",
    "for i in l1:\n",
    "    l2.append(i)\n",
    "print(l2)"
   ]
  },
  {
   "cell_type": "code",
   "execution_count": null,
   "id": "6f2b40e4",
   "metadata": {},
   "outputs": [],
   "source": [
    "#Write a Python program to find the list of words that are longer than or equal to 4 from a given string.\n",
    "#Input:- 'How much wood would a woodchuck chuck if a woodchuck could chuck wood'\n",
    "#Output:- ['much', 'wood', 'would', 'woodchuck', 'chuck', 'could']\n",
    "#Note:- Duplicate should be avoided."
   ]
  },
  {
   "cell_type": "code",
   "execution_count": 77,
   "id": "200b35f7",
   "metadata": {},
   "outputs": [
    {
     "name": "stdout",
     "output_type": "stream",
     "text": [
      "['How', 'much', 'wood', 'would', 'a', 'woodchuck', 'chuck', 'if', 'a', 'woodchuck', 'could', 'chuck', 'wood']\n",
      "['much', 'wood', 'would', 'woodchuck', 'chuck', 'could']\n"
     ]
    }
   ],
   "source": [
    "s = \"How much wood would a woodchuck chuck if a woodchuck could chuck wood\"\n",
    "l = s.split()\n",
    "l1 = []\n",
    "print(l)\n",
    "for i in range(len(l)):\n",
    "    if len(l[i]) >= 4:\n",
    "        if l[i] not in l1:\n",
    "            l1.append(l[i])\n",
    "print(l1)    "
   ]
  },
  {
   "cell_type": "code",
   "execution_count": null,
   "id": "48259302",
   "metadata": {},
   "outputs": [],
   "source": [
    "#Write a Python program which takes two list as input and returns True if they have at least 3 common elements.\n",
    "#inp_lst1 = [10,20,'Python', 10.20, 10+20j, [10,20,30], (10,20,30)]\n",
    "#inp_lst2 = [(10,20,30),1,20+3j,100.2, 10+20j, [10,20,30],'Python']\n",
    "#Output:- True"
   ]
  },
  {
   "cell_type": "code",
   "execution_count": 82,
   "id": "778ca287",
   "metadata": {},
   "outputs": [
    {
     "name": "stdout",
     "output_type": "stream",
     "text": [
      "True\n"
     ]
    }
   ],
   "source": [
    "l1 = [10,20,'Python', 10.20, 10+20j, [10,20,30], (10,20,30)]\n",
    "l2 = [(10,20,30),1,20+3j,100.2, 10+20j,[10,20,30],'Python']\n",
    "c=0\n",
    "for i in range(len(l1)):\n",
    "    for j in range(len(l2)):\n",
    "        if l1[i] == l2[j]:\n",
    "            c+=1\n",
    "if c >=3 :\n",
    "    print(\"True\")\n",
    "else:\n",
    "    print(\"False\")"
   ]
  },
  {
   "cell_type": "code",
   "execution_count": null,
   "id": "1bcaadda",
   "metadata": {},
   "outputs": [],
   "source": [
    "#Write a Python program to create a 4X4 2D matrix with below elements using loop and list comprehension both.\n",
    "#Output:- [[0,0,0,0],[0,1,2,3],[0,2,4,6],[0,3,6,9]]"
   ]
  },
  {
   "cell_type": "code",
   "execution_count": 5,
   "id": "45fa3816",
   "metadata": {},
   "outputs": [
    {
     "name": "stdout",
     "output_type": "stream",
     "text": [
      "[[0, 0, 0, 0], [0, 1, 2, 3], [0, 2, 4, 6], [0, 3, 6, 9]]\n"
     ]
    }
   ],
   "source": [
    "l = []\n",
    "m = []\n",
    "for i in range(0,4):\n",
    "    m = []\n",
    "    for j in range(0,4):\n",
    "        m.append(i*j)\n",
    "    l.append(m)\n",
    "print(l)"
   ]
  },
  {
   "cell_type": "code",
   "execution_count": 7,
   "id": "2112bbed",
   "metadata": {},
   "outputs": [
    {
     "name": "stdout",
     "output_type": "stream",
     "text": [
      "[[0, 0, 0, 0], [0, 1, 2, 3], [0, 2, 4, 6], [0, 3, 6, 9]]\n"
     ]
    }
   ],
   "source": [
    "l = [[i*j for j in range(0,4)] for i in range(0,4)] #simple since we are not using append function\n",
    "print(l) #List Comprehension"
   ]
  },
  {
   "cell_type": "code",
   "execution_count": 142,
   "id": "6c6c59e5",
   "metadata": {},
   "outputs": [
    {
     "name": "stdout",
     "output_type": "stream",
     "text": [
      "[[0, 0, 0, 0, 0, 1, 2, 3, 0, 2, 4, 6, 0, 3, 6, 9]]\n"
     ]
    }
   ],
   "source": [
    "l1 = [0,0,0,0]\n",
    "l2 = [0,1,2,3]\n",
    "l3= [0,2,4,6]\n",
    "l4 = [0,3,6,9]\n",
    "l5= [l1+l2+l3+l4 for i in range(1)]\n",
    "\n",
    "print(l5)"
   ]
  },
  {
   "cell_type": "code",
   "execution_count": null,
   "id": "6703b3fb",
   "metadata": {},
   "outputs": [],
   "source": [
    "#Write a Python program to create a 3X4X6 3D matrix wiith below elements using loop\n",
    "#Output:- \n",
    "# [\n",
    "#     [[0,0,0,0,0,0],[0,0,0,0,0,0],[0,0,0,0,0,0],[0,0,0,0,0,0]],\n",
    "#     [[0,0,0,0,0,0],[1,1,1,1,1,1],[2,2,2,2,2,2],[3,3,3,3,3,3]],\n",
    "#     [[0,0,0,0,0,0],[2,2,2,2,2,2],[4,4,4,4,4,4],[6,6,6,6,6,6]]\n",
    "# ]"
   ]
  },
  {
   "cell_type": "code",
   "execution_count": 3,
   "id": "9bee9774",
   "metadata": {},
   "outputs": [
    {
     "name": "stdout",
     "output_type": "stream",
     "text": [
      "[[[0, 0, 0, 0, 0, 0], [0, 0, 0, 0, 0, 0], [0, 0, 0, 0, 0, 0], [0, 0, 0, 0, 0, 0]], [[0, 0, 0, 0, 0, 0], [1, 1, 1, 1, 1, 1], [2, 2, 2, 2, 2, 2], [3, 3, 3, 3, 3, 3]], [[0, 0, 0, 0, 0, 0], [2, 2, 2, 2, 2, 2], [4, 4, 4, 4, 4, 4], [6, 6, 6, 6, 6, 6]]]\n"
     ]
    }
   ],
   "source": [
    "l = []\n",
    "m = []\n",
    "n =[]\n",
    "g = 0\n",
    "for i in range(0,3):\n",
    "    m = []\n",
    "    \n",
    "    for j in range(0,4):\n",
    "        \n",
    "        n = []\n",
    "        \n",
    "        for k in range(0,6):\n",
    "        \n",
    "            n.append(i*j)\n",
    "        \n",
    "        m.append(n)\n",
    "        \n",
    "\n",
    "    \n",
    "    \n",
    "        #i+=2\n",
    "    l.append(m)\n",
    "    \n",
    "        \n",
    "\n",
    "print(l)"
   ]
  },
  {
   "cell_type": "code",
   "execution_count": null,
   "id": "b151aca8",
   "metadata": {},
   "outputs": [],
   "source": [
    "#Write a Python program which takes a list of numbers as input and prints a new list after removing even numbers from it.\n",
    "#Input:- [10,21,22,98,87,45,33,1,2,100]\n",
    "#Output:- [21,87,45,33,1]"
   ]
  },
  {
   "cell_type": "code",
   "execution_count": 144,
   "id": "97c2f909",
   "metadata": {},
   "outputs": [
    {
     "name": "stdout",
     "output_type": "stream",
     "text": [
      "Enter items in list, 0 to stop: 10\n",
      "Enter items in list, 0 to stop: 21\n",
      "Enter items in list, 0 to stop: 22\n",
      "Enter items in list, 0 to stop: 98\n",
      "Enter items in list, 0 to stop: 87\n",
      "Enter items in list, 0 to stop: 45\n",
      "Enter items in list, 0 to stop: 33\n",
      "Enter items in list, 0 to stop: 1\n",
      "Enter items in list, 0 to stop: 2\n",
      "Enter items in list, 0 to stop: 100\n",
      "Enter items in list, 0 to stop: 0\n",
      "[21, 87, 45, 33, 1]\n"
     ]
    }
   ],
   "source": [
    "x=1\n",
    "l=[]\n",
    "l1 = []\n",
    "while (x==1):\n",
    "    ele = int(input(\"Enter items in list, 0 to stop: \"))\n",
    "    if ele == 0:\n",
    "        x = 0\n",
    "    else:\n",
    "        l.append(ele)\n",
    "for i in range(len(l)):\n",
    "    if l[i]%2 != 0:\n",
    "        l1.append(l[i])\n",
    "print(l1)"
   ]
  },
  {
   "cell_type": "code",
   "execution_count": null,
   "id": "718b8365",
   "metadata": {},
   "outputs": [],
   "source": [
    "#Write a Python program which takes a list from the user and prints it after reshuffling the elements of the list.\n",
    "#Input:- [10,21,22,98,87,45,33,1,2,100]\n",
    "#Output:- [1,87,21,10,33,2,100,45,98,22] (It may be any randon list but with same elements)"
   ]
  },
  {
   "cell_type": "code",
   "execution_count": 1,
   "id": "8c181478",
   "metadata": {},
   "outputs": [],
   "source": [
    "import random"
   ]
  },
  {
   "cell_type": "code",
   "execution_count": 7,
   "id": "69423c21",
   "metadata": {},
   "outputs": [
    {
     "name": "stdout",
     "output_type": "stream",
     "text": [
      "[10, 100, 22, 33, 98, 2, 1, 87, 45, 21]\n"
     ]
    }
   ],
   "source": [
    "l1 = [10,21,22,98,87,45,33,1,2,100]\n",
    "random.shuffle(l1)\n",
    "print(l1)"
   ]
  }
 ],
 "metadata": {
  "kernelspec": {
   "display_name": "Python 3",
   "language": "python",
   "name": "python3"
  },
  "language_info": {
   "codemirror_mode": {
    "name": "ipython",
    "version": 3
   },
   "file_extension": ".py",
   "mimetype": "text/x-python",
   "name": "python",
   "nbconvert_exporter": "python",
   "pygments_lexer": "ipython3",
   "version": "3.8.8"
  }
 },
 "nbformat": 4,
 "nbformat_minor": 5
}
