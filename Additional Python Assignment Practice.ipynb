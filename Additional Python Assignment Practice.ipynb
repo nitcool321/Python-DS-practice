{
 "cells": [
  {
   "cell_type": "code",
   "execution_count": null,
   "id": "200e2f15",
   "metadata": {},
   "outputs": [],
   "source": [
    "# WAP to print all elements of a list using a for loop. \n",
    "# Take the elements of the list from the user.\n",
    "# For e.g. Input: l = [3,'Hi',67,0,12,0,8]\n",
    "#         Output: 3\n",
    "#                 'Hi'\n",
    "#                 67\n",
    "#                 0\n",
    "#                 12\n",
    "#                 0\n",
    "#                 8"
   ]
  },
  {
   "cell_type": "code",
   "execution_count": null,
   "id": "44bd48fd",
   "metadata": {},
   "outputs": [],
   "source": [
    "#l1 = list((input(\"Enter elements of list: \")))\n",
    "#l1 = list(s1)\n",
    "l1 = ['3buy','Hi',67,0,12,0,8]\n",
    "l2 = []\n",
    "x = 1\n",
    "while(x == 1):\n",
    "    ele = input(\"Enter element: \")\n",
    "    if ele.lower() == \"stop\":\n",
    "        x = 0\n",
    "    else:\n",
    "        l2.append(ele)\n",
    "print(l2)\n",
    "for x in range(0, len(l2)):\n",
    "    print(l2[x])\n",
    "    x = x+1\n",
    "#print(l1[0])\n",
    "print(type(l1))\n",
    "# for x in range(0, len(l1)):\n",
    "#     print(l1[x])\n",
    "#     x = x+1"
   ]
  },
  {
   "cell_type": "code",
   "execution_count": null,
   "id": "6b24a878",
   "metadata": {},
   "outputs": [],
   "source": [
    "# #L2\n",
    "# WAP to take inputs from user to make a list. Length of the list has to be taken from the user.\n",
    "# Again take one input from user and search it in the list and delete that element, if found.\n",
    "# If not found, print \"Element not present\".\n",
    "\n",
    "# For e.g. Input: len_list = 5\n",
    "#                 list = [\"a\", \"b\", \"y\", \"e\", \"p\"]\n",
    "#                 search_element = \"g\"\n",
    "#                     Output: \"Element not found\"\n",
    "#                 search_element = \"e\"\n",
    "#                     Output: [\"a\", \"b\", \"y\", \"p\"]"
   ]
  },
  {
   "cell_type": "code",
   "execution_count": null,
   "id": "726efb89",
   "metadata": {},
   "outputs": [],
   "source": [
    "n = int(input(\"Enter the length of list: \"))\n",
    "l = []\n",
    "for i in range(0, n):\n",
    "    t = input(\"Enter elements of list: \")\n",
    "    l.append(t)\n",
    "print(l)\n",
    "ele = input(\"Enter element to be searched: \")\n",
    "#print(ele)\n",
    "#print(type(ele))\n",
    "if ele in l:\n",
    "    for j in range(0, n):\n",
    "        if l[j] == ele:\n",
    "            print(j)\n",
    "            l.pop(j)\n",
    "            break\n",
    "#find index before popping as pop takes index value as parameter\n",
    "    print(l)\n",
    "else:\n",
    "    print(\"Element not found\")"
   ]
  },
  {
   "cell_type": "code",
   "execution_count": null,
   "id": "a84e0523",
   "metadata": {},
   "outputs": [],
   "source": [
    "#L3\n",
    "# Make a grading system for a school based on the marks of the students using the following criteria.\n",
    "# Marks 0 - 40 : Grade F\n",
    "#      41 - 50 : Grade E\n",
    "#      51 - 70 : Grade D\n",
    "#      71 - 80 : Grade C\n",
    "#      81 - 90 : Grade B\n",
    "#      91 - 100: Grade A\n",
    "# Continuously take marks as input from the user and print the grade. \n",
    "# The user can enter \"Stop\" to stop the loop.\n",
    "#Comparing Strings here, hence A is not getting printed if you write x<100. There is another method. What is that - EXception HAndling"
   ]
  },
  {
   "cell_type": "code",
   "execution_count": 11,
   "id": "8bf06c98",
   "metadata": {},
   "outputs": [
    {
     "name": "stdout",
     "output_type": "stream",
     "text": [
      "Enter Marks: poi\n",
      "Please enter a valid input: \n",
      "Enter Marks: 100\n",
      "Grade A\n"
     ]
    }
   ],
   "source": [
    "y=1\n",
    "while (y == 1):\n",
    "    try:\n",
    "        x = input(\"Enter Marks: \")\n",
    "        if x.lower() == \"stop\":\n",
    "            break\n",
    "        elif x.isdigit() == False:\n",
    "            raise ValueError\n",
    "    except ValueError: \n",
    "        print(\"Please enter a valid input: \")\n",
    "        \n",
    "    else: \n",
    "        y = int(x)\n",
    "        while (y>=0 and y<=40):\n",
    "            print(\"Grade F\")\n",
    "            break\n",
    "        while (y>=41 and y<=50):\n",
    "            print(\"Grade E\")\n",
    "            break\n",
    "        while (y>=51 and y<=70):\n",
    "            print(\"Grade D\")\n",
    "            break\n",
    "        while (y>=71 and y<=80):\n",
    "            print(\"Grade C\")\n",
    "            break\n",
    "        while (y>=81 and y<=90):\n",
    "            print(\"Grade B\")\n",
    "            break\n",
    "        while (y>=91 and y<=100):\n",
    "            print(\"Grade A\")\n",
    "            break"
   ]
  },
  {
   "cell_type": "code",
   "execution_count": null,
   "id": "fc2aca3b",
   "metadata": {},
   "outputs": [],
   "source": [
    "# #L4\n",
    "# WAP to save the cube of all numbers from 1 to a number n in list, \n",
    "# where n is taken as input from the user.\n",
    "\n",
    "# For e.g. Input: 5\n",
    "#         Output: [1, 8, 27, 64, 125]  #Cube of numbers from 1 to 5 where 5 is the input from the user"
   ]
  },
  {
   "cell_type": "code",
   "execution_count": null,
   "id": "fe9694ee",
   "metadata": {},
   "outputs": [],
   "source": [
    "x = int(input(\"Enter n to list cubes of number from 1 to n: \"))\n",
    "n1=[]\n",
    "n1 = [i**3 for i in range(1, x+1)] #list comprehension used here\n",
    "# for i in range(1,x+1):\n",
    "#     n1.append(i**3)\n",
    "    \n",
    "print(n1)\n"
   ]
  },
  {
   "cell_type": "code",
   "execution_count": null,
   "id": "fa800bb0",
   "metadata": {},
   "outputs": [],
   "source": [
    "# #L5\n",
    "# WAP to print even numbers in a given range in reverse order. Take the range from the user.\n",
    "\n",
    "# For e.g. Input: start = 3\n",
    "#                 End = 14\n",
    "#         Output: 14, 12, 10, 8, 6, 4"
   ]
  },
  {
   "cell_type": "code",
   "execution_count": null,
   "id": "461b40fa",
   "metadata": {},
   "outputs": [],
   "source": [
    "x = int(input(\"Enter start: \"))\n",
    "y = int(input(\"Enter end: \"))\n",
    "# n1 = []\n",
    "# if (y % 2 == 0):\n",
    "#     for i in range(y,x-1,-2): \n",
    "#         n1.append(i)\n",
    "# else:\n",
    "#     for i in range(y,x,-2):\n",
    "#         n1.append(i-1)\n",
    "# print(n1)\n",
    "\n",
    "#Simple logic\n",
    "for x in range(y,x-1,-1):\n",
    "    if x%2 == 0:\n",
    "        print(x, end = \",\")\n"
   ]
  },
  {
   "cell_type": "code",
   "execution_count": null,
   "id": "4990aca2",
   "metadata": {},
   "outputs": [],
   "source": [
    "# #L6\n",
    "# WAP to print odd numbers in a given range in reverse order.\n",
    "# Take the range from the user.\n",
    "\n",
    "# For e.g. Input: start = 3\n",
    "#                 End = 14\n",
    "#         Output: 13, 11, 9, 7, 5, 3"
   ]
  },
  {
   "cell_type": "code",
   "execution_count": null,
   "id": "991643ab",
   "metadata": {},
   "outputs": [],
   "source": [
    "x = int(input(\"Enter start: \"))\n",
    "y = int(input(\"Enter end: \"))\n",
    "n1 = []\n",
    "if (y % 2 != 0):\n",
    "    for i in range(y,x-1,-2): \n",
    "        n1.append(i)\n",
    "else:\n",
    "    for i in range(y,x,-2):\n",
    "        n1.append(i-1)\n",
    "print(n1)"
   ]
  },
  {
   "cell_type": "code",
   "execution_count": null,
   "id": "d10fc71d",
   "metadata": {},
   "outputs": [],
   "source": [
    "# L7\n",
    "# WAP to print multiplication table of a number taken as input from the user.\n",
    "\n",
    "# For e.g. Input: 5\n",
    "#         Output: 5*1 = 5\n",
    "#                 5*2 = 10\n",
    "#                 .\n",
    "#                 .\n",
    "#                 .\n",
    "#                 5*10 = 50"
   ]
  },
  {
   "cell_type": "code",
   "execution_count": null,
   "id": "e85c616a",
   "metadata": {},
   "outputs": [],
   "source": [
    "n = int(input(\"Enter number whose multiplication table is to be printed: \"))\n",
    "for i in range(1,11):\n",
    "    print(n, \"*\", i, \"=\", n*i)"
   ]
  },
  {
   "cell_type": "code",
   "execution_count": null,
   "id": "4390f776",
   "metadata": {},
   "outputs": [],
   "source": [
    "# #L8\n",
    "# WAP to print the following pattern.\n",
    "\n",
    "# 1\n",
    "# 1 2\n",
    "# 1 2 3\n",
    "# 1 2 3 4"
   ]
  },
  {
   "cell_type": "code",
   "execution_count": null,
   "id": "1636e122",
   "metadata": {},
   "outputs": [],
   "source": [
    "n = int(input(\"Enter the rows for pattern: \"))\n",
    "l1 = []\n",
    "for i in range(1,n+1):\n",
    "    l1.append(i)\n",
    "    print(l1)\n",
    "    "
   ]
  },
  {
   "cell_type": "code",
   "execution_count": null,
   "id": "f02aaead",
   "metadata": {},
   "outputs": [],
   "source": [
    "n = int(input(\"Enter the rows for pattern: \"))\n",
    "for i in range(1,n+1):\n",
    "    for j in range(1,i+1):\n",
    "        print(j, end = \" \")\n",
    "    print(\"\\n\")"
   ]
  },
  {
   "cell_type": "code",
   "execution_count": null,
   "id": "2d11e50b",
   "metadata": {},
   "outputs": [],
   "source": [
    "# #L9\n",
    "# Write a program to calculate the sum of series up to n terms for a digit d. n & d are taken as input from the user.\n",
    "\n",
    "# For example:\n",
    "#     Input: n = 5, d = 2\n",
    "#     Logic: 2 + 22 + 222 + 2222 + 22222 \n",
    "#     Output: 24690"
   ]
  },
  {
   "cell_type": "code",
   "execution_count": null,
   "id": "5d2692d9",
   "metadata": {},
   "outputs": [],
   "source": [
    "n = int(input(\"Enter n: \"))\n",
    "d = str(input(\"Enter d: \"))\n",
    "s=r=0\n",
    "for i in range(n):\n",
    "    s = d + d*i\n",
    "    t = int(s)\n",
    "    #print(t)\n",
    "    r = r + t\n",
    "print(r)"
   ]
  },
  {
   "cell_type": "code",
   "execution_count": null,
   "id": "752e0d18",
   "metadata": {},
   "outputs": [],
   "source": [
    "#L10\n",
    "# WAP that keeps on accepting numbers from the user until the user enters Zero(0) as input.\n",
    "# Display the sum and average of all the numbers.\n",
    "\n",
    "# For example:\n",
    "#     Input: 3, 6, 8, 2, 5, Stop\n",
    "#     Output: Sum = 24\n",
    "#             Average = 4.8"
   ]
  },
  {
   "cell_type": "code",
   "execution_count": null,
   "id": "a8435de2",
   "metadata": {},
   "outputs": [],
   "source": [
    "sum1 = av = 0\n",
    "x = 1\n",
    "c=0\n",
    "while (x != 0):\n",
    "    x = int(input(\"Enter number, 0 to stop: \"))\n",
    "    sum1 += x\n",
    "    c +=1\n",
    "av = float(sum1/(c-1))\n",
    "print(f\"Sum is {sum1} Average is {av}\")"
   ]
  },
  {
   "cell_type": "code",
   "execution_count": null,
   "id": "e584eb8a",
   "metadata": {},
   "outputs": [],
   "source": [
    "#L11\n",
    "# Accept n numbers from the user and display their average. n is input from the user.\n",
    "\n",
    "# For example:\n",
    "#     Input: n = 5\n",
    "#         Numbers = 3, 6, 2, 9, 0\n",
    "#     Output: Average = 4.0"
   ]
  },
  {
   "cell_type": "code",
   "execution_count": null,
   "id": "ebcce969",
   "metadata": {},
   "outputs": [],
   "source": [
    "n = int(input(\"Enter n: \"))\n",
    "c = 0\n",
    "sum1 = 0\n",
    "for i in range(n):\n",
    "    t = int(input(\"Enter number\"))\n",
    "    c +=1\n",
    "    sum1 += t\n",
    "    \n",
    "avg = sum1/c\n",
    "print(\"Sum is {0} and Average is {1}\".format(sum1, avg))\n",
    "print(sum1)\n",
    "print(avg)"
   ]
  },
  {
   "cell_type": "code",
   "execution_count": null,
   "id": "c3b07a77",
   "metadata": {},
   "outputs": [],
   "source": [
    "# #S1\n",
    "# Write a Python program to count the number of each of the characters (character frequency) \n",
    "\n",
    "#    in a string input by the user. Ignore the case.\n",
    "#    For example: Input: \"Python is great\"\n",
    "# \t\tOutput: P = 1, y = 1, t = 2, and so on..."
   ]
  },
  {
   "cell_type": "code",
   "execution_count": null,
   "id": "4161ee58",
   "metadata": {},
   "outputs": [],
   "source": [
    "s1 = str(input(\"Enter the string: \"))\n",
    "for i in range(0,len(s1)):\n",
    "    n = s1.count(s1[i])\n",
    "    print(s1[i], \"=\", n, end = \",\")"
   ]
  },
  {
   "cell_type": "code",
   "execution_count": null,
   "id": "a721e99b",
   "metadata": {},
   "outputs": [],
   "source": [
    "# #S2\n",
    "# Write a Python program to find the digits which are absent in a given mobile number.\n",
    "\n",
    "#    For example: Input : 9354328855\n",
    "#                 Output: 0167"
   ]
  },
  {
   "cell_type": "code",
   "execution_count": null,
   "id": "e08187e2",
   "metadata": {},
   "outputs": [],
   "source": [
    "n = input(\"Enter mobile number: \")\n",
    "#print(n[1])\n",
    "c=0\n",
    "for i in range(0, len(n)):\n",
    "    if str(i) in n:\n",
    "        c+=1\n",
    "    else:\n",
    "        print (i, end = \"\")"
   ]
  },
  {
   "cell_type": "code",
   "execution_count": null,
   "id": "cdc4285e",
   "metadata": {},
   "outputs": [],
   "source": [
    "#S3\n",
    "#WAP in python to find average of n numbers taken as input from the user dynamically."
   ]
  },
  {
   "cell_type": "code",
   "execution_count": null,
   "id": "2708fc9b",
   "metadata": {},
   "outputs": [],
   "source": [
    "x = 1\n",
    "s = 0\n",
    "av = 0\n",
    "c = 0\n",
    "while(x == 1):\n",
    "    n = int(input(\"Enter numbers, enter 0 to stop: \"))\n",
    "    if n == 0:\n",
    "        x = 0\n",
    "    else:\n",
    "        s += n\n",
    "        c+=1\n",
    "        av = s/c\n",
    "        print(\"Avergae is \", av)\n",
    "        "
   ]
  },
  {
   "cell_type": "code",
   "execution_count": null,
   "id": "ccf0fdf4",
   "metadata": {},
   "outputs": [],
   "source": [
    "#S4\n",
    "WAP in python that accepts a hyphen-separated sequence of \n",
    "words as input and prints the words in a hyphen-separated \n",
    "sequence after sorting them alphabetically.\n",
    "\n",
    "For e.g. Input: \"p-y-t-h-o-n\"\n",
    "        Output: ['h', 'n','o', 'p', 't', 'y']"
   ]
  },
  {
   "cell_type": "code",
   "execution_count": null,
   "id": "711aa7a0",
   "metadata": {},
   "outputs": [],
   "source": [
    "n = input(\"Enter hyphen seperated sequence: \")\n",
    "l = n.split(\"-\")\n",
    "print(l)\n",
    "t=[]\n",
    "for i in range(0,len(l)):\n",
    "    for j in range(0,len(l)):\n",
    "        if l[i] < l[j+1]:\n",
    "            t.append(l[i])\n",
    "print(t)"
   ]
  },
  {
   "cell_type": "code",
   "execution_count": null,
   "id": "4c9d07f2",
   "metadata": {},
   "outputs": [],
   "source": [
    "#S5\n",
    "# WAP in python to find the number of vowels, consonants, digits, special \n",
    "# characters and white space characters in a string input by the user.\n",
    "\n",
    "# Example: Input: \"Qwerty@123\"\n",
    "# \toutput: v = 1, c = 5, d = 3, w = 0, s = 1"
   ]
  },
  {
   "cell_type": "code",
   "execution_count": null,
   "id": "c2cc7e84",
   "metadata": {},
   "outputs": [],
   "source": [
    "s = input(\"Enter String: \")\n",
    "s = s.lower()\n",
    "print(s)\n",
    "c=d=e=w=g=0\n",
    "for i in range(len(s)):\n",
    "    if s[i].isalpha():\n",
    "        if s[i] == \"a\" or s[i] == \"e\" or s[i] == \"i\" or s[i] == \"o\" or s[i] == \"u\":\n",
    "            c+=1\n",
    "        else:\n",
    "            d+=1\n",
    "    elif s[i].isdigit():\n",
    "        e+=1\n",
    "    elif s[i].isspace():\n",
    "        w+=1\n",
    "    else:\n",
    "        g+=1\n",
    "print(\"v = \", c, end = \",\")\n",
    "print(\"c = \", d, end = \",\")\n",
    "print(\"d = \", e, end = \",\")\n",
    "print(\"w = \", w, end = \",\")\n",
    "print(\"s = \", g)"
   ]
  },
  {
   "cell_type": "code",
   "execution_count": null,
   "id": "2f8e02d9",
   "metadata": {},
   "outputs": [],
   "source": [
    "#S6\n",
    "# WAP in python to check the strength of the password input by the user based on the following features.\n",
    "#     Length minimum of 8 characters  (+1 Strength)\n",
    "#     Combination of upper case & lower case characters (+1 Strength)\n",
    "#     Combination of alphabets & digits (+1 Strength)\n",
    "#     Use of Special Characters (+1 Strength)\n",
    "    \n",
    "# Example: Input: \"Qwerty@123\"\n",
    "#         Output: Strength = 4"
   ]
  },
  {
   "cell_type": "code",
   "execution_count": null,
   "id": "32a71bd8",
   "metadata": {},
   "outputs": [],
   "source": [
    "p = input(\"Enter password to check strength: \")\n",
    "s=sl=su=comb=an=sp=0\n",
    "for i in range(len(p)):\n",
    "    if p[i].isalpha():\n",
    "        if p[i].isupper():\n",
    "            s+=1\n",
    "            if s>=1:\n",
    "                su = 1\n",
    "        elif p[i].islower():\n",
    "            s+=1\n",
    "            if s>=1:\n",
    "                sl = 1\n",
    "    elif p[i].isdigit():\n",
    "        s+=1\n",
    "        if s>=1:\n",
    "            an = 1\n",
    "    else:\n",
    "        s+=1\n",
    "        if s>=1:\n",
    "            sp = 1\n",
    "        \n",
    "if su == 1 and sl == 1:\n",
    "    comb = 1\n",
    "if len(p)>=8:\n",
    "    comb+=1\n",
    "if an == 1:\n",
    "    comb+=1\n",
    "if sp == 1:\n",
    "    comb+=1\n",
    "print(\"Strength: \",comb)"
   ]
  },
  {
   "cell_type": "code",
   "execution_count": null,
   "id": "5eaa8a25",
   "metadata": {},
   "outputs": [],
   "source": [
    "#S7\n",
    "# WAP in python to compare two strings and tell the user if both of those strings are same or not. \n",
    "# Ignore their case.\n",
    "\n",
    "# Example: Input String1: \"Hello\"\n",
    "# \tInput String2: \"hello\"\n",
    "# \tOutput: Strings are same"
   ]
  },
  {
   "cell_type": "code",
   "execution_count": null,
   "id": "7f880775",
   "metadata": {},
   "outputs": [],
   "source": [
    "str1 = input(\"Enter 1st string: \")\n",
    "str2 = input(\"Enter 2nd string: \")\n",
    "str3 = str1.lower()\n",
    "str4 = str2.lower()\n",
    "if str3[::] == str4[::-1]:\n",
    "    print(\"Strings are same\")\n",
    "else:\n",
    "    print(\"Strings are not same\")"
   ]
  },
  {
   "cell_type": "code",
   "execution_count": null,
   "id": "911874c2",
   "metadata": {},
   "outputs": [],
   "source": [
    "#S8\n",
    "# WAP in python to calculate the number of times a character is repeated in a given string.\n",
    "# Take the string and character from the user.\n",
    "\n",
    "# Example: Input String: \"Neil Nitin Mukesh\"\n",
    "#         Input Character: \"e\"\n",
    "#         Output: 2"
   ]
  },
  {
   "cell_type": "code",
   "execution_count": null,
   "id": "b3894297",
   "metadata": {},
   "outputs": [],
   "source": [
    "str1 = input(\"Enter String: \")\n",
    "str2 = input(\"Enter character to be searched: \")\n",
    "count = 0\n",
    "for i in range(len(str1)):\n",
    "    if str1[i] == str2:\n",
    "        count+=1\n",
    "print(\"Output: \", count)"
   ]
  },
  {
   "cell_type": "code",
   "execution_count": null,
   "id": "1a30df95",
   "metadata": {},
   "outputs": [],
   "source": [
    "#S9\n",
    "# WAP in python which accepts string from the user and displays only those characters/elements which are present at an even index.\n",
    "\n",
    "# Example: \n",
    "#     Input: \"Python\"\n",
    "#     Output: Pto"
   ]
  },
  {
   "cell_type": "code",
   "execution_count": null,
   "id": "62808dbc",
   "metadata": {},
   "outputs": [],
   "source": [
    "str1 = input(\"Enter String: \")\n",
    "for i in range(0,len(str1),2):\n",
    "    print(str1[i], end = \"\")\n",
    "    i+=2"
   ]
  },
  {
   "cell_type": "code",
   "execution_count": null,
   "id": "5b2cd9d4",
   "metadata": {},
   "outputs": [],
   "source": [
    "#S10\n",
    "# WAP in python to capitalize the first letter of the First Name and Surname where whole name is taken as input from the user.\n",
    "\n",
    "# Example: Input: \"first last\" or \"FIRST LAST\" or \"first lAst\" i.e. Input can be in any case.\n",
    "#         Output: \"First Last\""
   ]
  },
  {
   "cell_type": "code",
   "execution_count": null,
   "id": "7d24ab72",
   "metadata": {},
   "outputs": [],
   "source": [
    "str1 = input(\"Enter first name and last name: \")\n",
    "str2 = str1.lower()\n",
    "str3 = str2.title()\n",
    "print(str3)"
   ]
  },
  {
   "cell_type": "code",
   "execution_count": null,
   "id": "5e2cc7a1",
   "metadata": {},
   "outputs": [],
   "source": [
    "#S11\n",
    "# Write a Python program that accepts a comma separated sequence of words as input and \n",
    "# prints the unique words in sorted form (alphanumerically).\n",
    "\n",
    "# \tSample Words : red, white, black, red, green    \n",
    "# \tExpected Result : black, green, red, red, white"
   ]
  },
  {
   "cell_type": "code",
   "execution_count": 34,
   "id": "428a5f54",
   "metadata": {},
   "outputs": [
    {
     "name": "stdout",
     "output_type": "stream",
     "text": [
      "Enter string seperated with comma: red, white, black, red, green\n",
      "['red,', 'white,', 'black,', 'red,', 'green']\n",
      "[98, 103, 114, 119]\n",
      "['black,', 'green', 'red,', 'red,', 'white,']\n"
     ]
    }
   ],
   "source": [
    "st = input(\"Enter string seperated with comma: \")\n",
    "l = st.split()\n",
    "l1 = []\n",
    "l3 = []\n",
    "print(l)\n",
    "for i in range(len(l)):\n",
    "    m = l[i][0]\n",
    "    if ord(m) not in l1:\n",
    "        l1.append(ord(m))\n",
    "l2 = sorted(l1) #Remember\n",
    "for j in range(len(l2)):\n",
    "    for k in range(len(l)):\n",
    "        if chr(l2[j]) == l[k][0]:\n",
    "            l3.append(l[k])\n",
    "print(l2)\n",
    "print(l3)\n",
    "\n",
    "    \n"
   ]
  },
  {
   "cell_type": "code",
   "execution_count": null,
   "id": "79718ba2",
   "metadata": {},
   "outputs": [],
   "source": [
    "#S12\n",
    "# Write a Python program to count repeated characters in a string.\n",
    "#To remove duplicates set can be used. This is the inherent option in python\n",
    "\n",
    "# \tSample string: 'thequickbrownfoxjumpsoverthelazydog'\n",
    "# \tExpected output :\n",
    "# \t\t\to 4\n",
    "# \t\t\te 3\n",
    "# \t\t\tu 2\n",
    "# \t\t\th 2\n",
    "# \t\t\tr 2\n",
    "# \t\t\tt 2"
   ]
  },
  {
   "cell_type": "code",
   "execution_count": 41,
   "id": "a2f143eb",
   "metadata": {},
   "outputs": [
    {
     "name": "stdout",
     "output_type": "stream",
     "text": [
      "Enter string: thequickbrownfoxjumpsoverthelazydog\n",
      "t 2\n",
      "h 2\n",
      "e 3\n",
      "u 2\n",
      "r 2\n",
      "o 4\n"
     ]
    }
   ],
   "source": [
    "l = []\n",
    "l1 = []\n",
    "str1 = input(\"Enter string: \")\n",
    "for i in range(len(str1)):\n",
    "    if str1[i] not in l1:\n",
    "        l1.append(str1[i])\n",
    "for j in range(len(l1)):\n",
    "    if str1.count(l1[j]) >= 2:\n",
    "        print(l1[j],str1.count(l1[j]))\n",
    "        "
   ]
  },
  {
   "cell_type": "code",
   "execution_count": null,
   "id": "cabe8b46",
   "metadata": {},
   "outputs": [],
   "source": [
    "#Li1\n",
    "# WAP to remove empty strings from the list of strings. Take list as input from the user.\n",
    "\n",
    "# For example: Input: [\"My\", \"name\", \"\", \"is\", \"\", \"Alankrita\", \"\", \".\"]\n",
    "#             Output: [\"My\", \"name\", \"is\", \"Alankrita\", \".\"]"
   ]
  },
  {
   "cell_type": "code",
   "execution_count": 43,
   "id": "a82e68f5",
   "metadata": {},
   "outputs": [
    {
     "name": "stdout",
     "output_type": "stream",
     "text": [
      "Enter no. of elements: 8\n",
      "Enter elements of list: My\n",
      "Enter elements of list: name\n",
      "Enter elements of list: \n",
      "Enter elements of list: is\n",
      "Enter elements of list: \n",
      "Enter elements of list: Alankrita\n",
      "Enter elements of list: \n",
      "Enter elements of list: .\n",
      "['My', 'name', '', 'is', '', 'Alankrita', '', '.']\n",
      "['My', 'name', 'is', 'Alankrita', '.']\n"
     ]
    }
   ],
   "source": [
    "n = int(input(\"Enter no. of elements: \"))\n",
    "l = []\n",
    "l1 = []\n",
    "for j in range(n):\n",
    "    e = input(\"Enter elements of list: \")\n",
    "    l.append(e)\n",
    "print (l)\n",
    "for i in range(n):\n",
    "    if l[i] != \"\":\n",
    "        l1.append(l[i])  \n",
    "print(l1)"
   ]
  },
  {
   "cell_type": "code",
   "execution_count": null,
   "id": "f7c6e9cf",
   "metadata": {},
   "outputs": [],
   "source": [
    "#Li2\n",
    "# WAP to make a list of all the characters starting from character 'A' to the input character from the user.\n",
    "\n",
    "# For e.g. Input: 'H'\n",
    "#         Output: [\"A\", \"B\", \"C\", \"D\", \"E\", \"F\", \"G\", \"H\"]"
   ]
  },
  {
   "cell_type": "code",
   "execution_count": 46,
   "id": "8a3b65b5",
   "metadata": {},
   "outputs": [
    {
     "data": {
      "text/plain": [
       "90"
      ]
     },
     "execution_count": 46,
     "metadata": {},
     "output_type": "execute_result"
    }
   ],
   "source": [
    "ord(\"Z\") #65-90"
   ]
  },
  {
   "cell_type": "code",
   "execution_count": 50,
   "id": "67fe73a6",
   "metadata": {},
   "outputs": [
    {
     "name": "stdout",
     "output_type": "stream",
     "text": [
      "Enter character: H\n",
      "['A', 'B', 'C', 'D', 'E', 'F', 'G', 'H']\n"
     ]
    }
   ],
   "source": [
    "l1 = []\n",
    "c = input(\"Enter character: \")\n",
    "d = ord(c)\n",
    "for i in range(65,d+1):\n",
    "    l1.append(chr(i))\n",
    "print(l1)"
   ]
  },
  {
   "cell_type": "code",
   "execution_count": null,
   "id": "62501cee",
   "metadata": {},
   "outputs": [],
   "source": [
    "#Li3\n",
    "# WAP to check if a specific employee e is present in a company or not. Employee names are saved in a list.\n",
    "# e is taken as input from the user.\n",
    "\n",
    "# For example: empList = [\"Ashwin\", \"Rachit\", \"Sanjana\", \"David\", \"Komal\"]\n",
    "#             Input1: \"Komal\"\n",
    "#             Output1: \"Employee is present\"\n",
    "            \n",
    "#             Input2: \"Harshil\"\n",
    "#             Output2: \"Employee is not present\""
   ]
  },
  {
   "cell_type": "code",
   "execution_count": null,
   "id": "f4d5c0b9",
   "metadata": {},
   "outputs": [],
   "source": [
    "empList = [\"Ashwin\", \"Rachit\", \"Sanjana\", \"David\", \"Komal\"]\n",
    "str1 = input(\"Enter emp name to be checked \")\n",
    "if str1 in empList:\n",
    "    print(\"Employee is present \")\n",
    "else:\n",
    "    print(\"Not present\")"
   ]
  },
  {
   "cell_type": "code",
   "execution_count": null,
   "id": "873e2661",
   "metadata": {},
   "outputs": [],
   "source": [
    "#Li4\n",
    "# Write a python program to find the maximum and minimum number in a list of 10 elements \n",
    "#    (taken as input from the user) and also find the index position of the these numbers.\n",
    "    \n",
    "#    For example: Input : [25, 2, 1, 86, 42, 32, 27, 12, 31, 10]\n",
    "# \t\tOutput: Max Number: 86, Index of Max Number: 3\n",
    "# \t\t\tMin Number: 1, Index of Min Number: 2"
   ]
  },
  {
   "cell_type": "code",
   "execution_count": null,
   "id": "d05637e7",
   "metadata": {},
   "outputs": [],
   "source": [
    "l = []\n",
    "for i in range(10):\n",
    "    ele = input(\"Enter element: \")\n",
    "    l.append(ele)\n",
    "print(l)\n",
    "print(\"Max number in the list is: \", max(l))\n",
    "print(\"Index of max number is: \", l.index(max(l)))\n",
    "print(\"Min number in the list is: \", min(l))\n",
    "print(\"Index of min number is: \", l.index(min(l)))"
   ]
  },
  {
   "cell_type": "code",
   "execution_count": null,
   "id": "65519392",
   "metadata": {},
   "outputs": [],
   "source": [
    "#Li5\n",
    "# Given two Python lists of same length. Iterate both lists simultaneously such that list1 \n",
    "#    should display item in original order and list2 in reverse order.\n",
    "    \n",
    "#    For example: Input = list1 = [10, 20, 30, 40]\n",
    "# \t\t\tlist2 = [100, 200, 300, 400]\n",
    "#             Output: 10 400\n",
    "#                     20 300\n",
    "#                     30 200\n",
    "#                     40 100"
   ]
  },
  {
   "cell_type": "code",
   "execution_count": null,
   "id": "10554fdc",
   "metadata": {},
   "outputs": [],
   "source": [
    "list1 = [10, 20, 30, 40]\n",
    "list2 = [100, 200, 300, 400]\n",
    "n=4\n",
    "for i in range(n):\n",
    "    print(list1[i], list2[n-1-i])"
   ]
  },
  {
   "cell_type": "code",
   "execution_count": null,
   "id": "f55f6630",
   "metadata": {},
   "outputs": [],
   "source": [
    "# Li6\n",
    "# WAP to concatenate two lists index-wise.\n",
    "# list1 = [\"M\", \"na\", \"i\", \"Ashu\"]\n",
    "# list2 = [\"y\", \"me\", \"s\", \"tosh\"]\n",
    "# Output: ['My', 'name', 'is', 'Ashutosh']"
   ]
  },
  {
   "cell_type": "code",
   "execution_count": null,
   "id": "dc1c1d04",
   "metadata": {},
   "outputs": [],
   "source": [
    "list1 = [\"M\", \"na\", \"i\", \"Ashu\"]\n",
    "list2 = [\"y\", \"me\", \"s\", \"tosh\"]\n",
    "l=[\"\",\"\",\"\",\"\"] #to avoid list index out of range error\n",
    "for i in range(4):\n",
    "    l[i] = list1[i] + list2[i]\n",
    "    #l.append(list1[i]+list2[i]), if you dont know length of empty l\n",
    "print(l)"
   ]
  },
  {
   "cell_type": "code",
   "execution_count": null,
   "id": "e027d5d1",
   "metadata": {},
   "outputs": [],
   "source": [
    "#Li7\n",
    "# WAP to remove/delete items from a list while iterating without creating a duplicate list.\n",
    "# Take the elements to be deleted from the user in real-time."
   ]
  },
  {
   "cell_type": "code",
   "execution_count": 65,
   "id": "1976accf",
   "metadata": {},
   "outputs": [
    {
     "name": "stdout",
     "output_type": "stream",
     "text": [
      "Enter elements to be deleted, stop to stop: Ap\n",
      "['my', 'name', 'is']\n",
      "Enter elements to be deleted, stop to stop: is\n",
      "['my', 'name']\n",
      "Enter elements to be deleted, stop to stop: my\n",
      "['name']\n",
      "Enter elements to be deleted, stop to stop: name\n",
      "[]\n"
     ]
    }
   ],
   "source": [
    "l1 = [\"my\", \"name\", \"is\", \"Ap\"]\n",
    "for i in range(len(l1)):\n",
    "    ele = input(\"Enter elements to be deleted, stop to stop: \")\n",
    "    if ele == \"stop\":\n",
    "        break\n",
    "    elif ele in l1:\n",
    "        g = l1.index(ele)\n",
    "        l1.pop(g)\n",
    "        print(l1)\n",
    "    else:\n",
    "        print(\"Element not found, Try again\")\n",
    "        "
   ]
  },
  {
   "cell_type": "code",
   "execution_count": null,
   "id": "b2b4645d",
   "metadata": {},
   "outputs": [],
   "source": []
  },
  {
   "cell_type": "code",
   "execution_count": null,
   "id": "97aa436d",
   "metadata": {},
   "outputs": [],
   "source": [
    "#Li8\n",
    "#WAP to generate a Python list of all the prime numbers between n to m where n & m are taken as input from the user."
   ]
  },
  {
   "cell_type": "code",
   "execution_count": null,
   "id": "6ab75dec",
   "metadata": {},
   "outputs": [],
   "source": [
    "n = int(input(\"Enter start: \"))\n",
    "m = int(input(\"Enter end: \"))\n",
    "l=[]\n",
    "for j in range(n,m):\n",
    "    l.append(j)\n",
    "l1 = []\n",
    "for i in range(n,m):\n",
    "    if i == 2 or i == 3:\n",
    "        l1.append(i)\n",
    "    elif i % 2 != 0 and i % 3 !=0 and i%5!=0:\n",
    "        l1.append(i)\n",
    "print(l1)"
   ]
  },
  {
   "cell_type": "code",
   "execution_count": null,
   "id": "1e40a56f",
   "metadata": {},
   "outputs": [],
   "source": [
    "#Li9\n",
    "# WAP to concatenate two lists in the following order:\n",
    "#     list1 = [\"Hello \", \"World\"]\n",
    "#     list2 = [\"Hi\", \"There\"]\n",
    "#     Output: ['Hello Hi', 'Hello There', 'World Hi', 'World There']"
   ]
  },
  {
   "cell_type": "code",
   "execution_count": null,
   "id": "469b2054",
   "metadata": {},
   "outputs": [],
   "source": [
    "list1 = [\"Hello \", \"World\"]\n",
    "list2 = [\"Hi\", \"There\"]\n",
    "l=[]\n",
    "for i in range(len(list1)):\n",
    "    for j in range(len(list2)):\n",
    "        l.append(list1[i]+\"\"+list2[j])\n",
    "        \n",
    "print(l)\n",
    "    "
   ]
  },
  {
   "cell_type": "code",
   "execution_count": null,
   "id": "928c17f1",
   "metadata": {},
   "outputs": [],
   "source": [
    "#Li10\n",
    "# Given two lists having names of students and their corrsponding marks.\n",
    "# names = [\"Ashutosh\", \"Ajay\", \"Alankrita\", \"Rachit\", \"Komal\", \"Anil\"]\n",
    "# marks = [23, 21, 26, 23, 27, 24]\n",
    "# Take name of a student as input from the user and output his/her marks.\n",
    "\n",
    "# For e.g.:\n",
    "#     Input1: \"Alankrita\"\n",
    "#     Output1: 26\n",
    "        \n",
    "#     Input2: \"Someone\"\n",
    "#     Output2: \"Student not found\""
   ]
  },
  {
   "cell_type": "code",
   "execution_count": null,
   "id": "f7a3fdd1",
   "metadata": {},
   "outputs": [],
   "source": [
    "names = [\"Ashutosh\", \"Ajay\", \"Alankrita\", \"Rachit\", \"Komal\", \"Anil\"]\n",
    "marks = [23, 21, 26, 23, 27, 24]\n",
    "nm = input(\"Enter name from the list whose marks need to be displayed : \")\n",
    "mar=0\n",
    "if nm in names:\n",
    "    for i in range(len(names)):\n",
    "        if names[i] == nm:\n",
    "            mar = marks[i]\n",
    "    print(\"Marks: \", mar)\n",
    "else:\n",
    "    print(\"Name not found\")\n",
    "    \n",
    "\n"
   ]
  },
  {
   "cell_type": "code",
   "execution_count": null,
   "id": "c9b24ab7",
   "metadata": {},
   "outputs": [],
   "source": [
    "#Li11\n",
    "# Extended question of #Li10\n",
    "# Add an option to change marks of any students in the same code of #Li10. Take student name and new marks from the user. \n",
    "# Print the modified list as output.\n",
    "\n",
    "# For e.g.: Input: \"Ajay\"\n",
    "#         new_mark: 25\n",
    "#         Output: marks = [23, 25, 26, 23, 27, 24]\n",
    "#Li12\n",
    "# Extended question of #Li10\n",
    "# Give an option to enter the marks of a new student into the existing lists names and marks. Take new data as input from user.\n",
    "# Print the new names and marks list as output.\n",
    "\n",
    "# For e.g.: Input: New_name = \"Harshil\"\n",
    "#                 new_Marks = 20\n",
    "#         Output: names = [\"Ashutosh\", \"Ajay\", \"Alankrita\", \"Rachit\", \"Komal\", \"Anil\", \"Harshil\"]\n",
    "#                 marks = [23, 21, 26, 23, 27, 24, 20]"
   ]
  },
  {
   "cell_type": "code",
   "execution_count": null,
   "id": "ee017144",
   "metadata": {},
   "outputs": [],
   "source": [
    "names = [\"Ashutosh\", \"Ajay\", \"Alankrita\", \"Rachit\", \"Komal\", \"Anil\"]\n",
    "marks = [23, 21, 26, 23, 27, 24]\n",
    "nm = input(\"Enter name from the list whose marks need to be displayed : \")\n",
    "mar=0\n",
    "if nm in names:\n",
    "    for i in range(len(names)):\n",
    "        if names[i] == nm:\n",
    "            mar = marks[i]\n",
    "    print(\"Marks: \", mar)\n",
    "else:\n",
    "    print(\"Name not found\")\n",
    "    \n",
    "rm = input(\"Enter student name whose marks to be changed: \")\n",
    "mar_new= int(input(\"Enter marks: \"))\n",
    "if rm in names:\n",
    "    for i in range(len(names)):\n",
    "        if names[i] == rm:\n",
    "            marks[i] = mar_new\n",
    "    print(\"New Marks list : \", marks)\n",
    "else:\n",
    "    print(\"Name not found\")\n",
    "    \n",
    "new_name = input(\"Enter new name to be added in list: \")\n",
    "new_mar = input(\"Enter marks for new name: \")\n",
    "names.append(new_name)\n",
    "marks.append(new_mar)\n",
    "print(\"New name list: \", names)\n",
    "print(\"New marks list: \", marks)\n"
   ]
  },
  {
   "cell_type": "code",
   "execution_count": null,
   "id": "a2a85d82",
   "metadata": {},
   "outputs": [],
   "source": [
    "#D1\n",
    "# WAP in Python to merge following dictionaries to create a new one:\n",
    "# \tdic1={1:10, 2:20}\n",
    "# \tdic2={3:30, 4:40}\n",
    "# \tdic3={5:50, 6:60}"
   ]
  },
  {
   "cell_type": "code",
   "execution_count": null,
   "id": "325f8ffb",
   "metadata": {},
   "outputs": [],
   "source": [
    "dic1={1:10, 2:20}\n",
    "dic2={3:30, 4:40}\n",
    "dic3={5:50, 6:60}\n",
    "dicsum = {}\n",
    "dicsum.update(dic1)\n",
    "dicsum.update(dic2)\n",
    "dicsum.update(dic3)\n",
    "print(dicsum)"
   ]
  },
  {
   "cell_type": "code",
   "execution_count": null,
   "id": "2a2b19e8",
   "metadata": {},
   "outputs": [],
   "source": [
    "#D2\n",
    "# WAP in python to generate and print a dictionary that contains a number (between 1 and n) \n",
    "# in the form {x : x*x} where n is the input from the user.\n",
    "\n",
    "# For e.g. Input: 4\n",
    "#         Output: {1:1, 2:4, 3:9, 4:16}"
   ]
  },
  {
   "cell_type": "code",
   "execution_count": null,
   "id": "f0097a39",
   "metadata": {},
   "outputs": [],
   "source": [
    "n = int(input(\"Enter number between 1 to n: \"))\n",
    "dic = {}\n",
    "for i in range(1,n+1):\n",
    "    dic1 = {i:i*i}\n",
    "    dic.update(dic1)\n",
    "print(dic)"
   ]
  },
  {
   "cell_type": "code",
   "execution_count": null,
   "id": "cdef837c",
   "metadata": {},
   "outputs": [],
   "source": [
    "#D3\n",
    "# WAP in python to find the number of vowels, consonants, digits, white space characters & \n",
    "# special characters in a string and save the result in the form of a dictionary."
   ]
  },
  {
   "cell_type": "code",
   "execution_count": null,
   "id": "4b890c89",
   "metadata": {},
   "outputs": [],
   "source": [
    "s = input(\"Enter String: \")\n",
    "s = s.lower()\n",
    "print(s)\n",
    "c=d=e=w=g=0\n",
    "dici={}\n",
    "for i in range(len(s)):\n",
    "    if s[i].isalpha():\n",
    "        if s[i] == \"a\" or s[i] == \"e\" or s[i] == \"i\" or s[i] == \"o\" or s[i] == \"u\":\n",
    "            c+=1\n",
    "        else:\n",
    "            d+=1\n",
    "    elif s[i].isdigit():\n",
    "        e+=1\n",
    "    elif s[i].isspace():\n",
    "        w+=1\n",
    "    else:\n",
    "        g+=1\n",
    "print(\"v = \", c, end = \",\")\n",
    "print(\"c = \", d, end = \",\")\n",
    "print(\"d = \", e, end = \",\")\n",
    "print(\"w = \", w, end = \",\")\n",
    "print(\"s = \", g)\n",
    "dici = {\"v\":c, \"c\":d, \"d\":e, \"w\":w, \"s\":g}\n",
    "print(\"Final dictionary is\",dici)"
   ]
  },
  {
   "cell_type": "code",
   "execution_count": null,
   "id": "06e1f832",
   "metadata": {},
   "outputs": [],
   "source": [
    "#D4\n",
    "# WAP to reverse map the dictionary items. Take dictionary as input from the user.\n",
    "\n",
    "# \tFor eg., Input: d = {'A': 65, 'B': 66, 'C': 67, 'D': 68}\n",
    "#             Output: d = {65: 'A', 66: 'B', 67: 'C', 68: 'D'}"
   ]
  },
  {
   "cell_type": "code",
   "execution_count": null,
   "id": "3d47cc3a",
   "metadata": {},
   "outputs": [],
   "source": [
    "d = {}\n",
    "do={}\n",
    "k=[]\n",
    "v=[]\n",
    "ele =\"\"\n",
    "n = int(input(\"Enter no. of items: \"))\n",
    "print(\"Enter Dictionary items\")\n",
    "for i in range(n):\n",
    "    ele = input(\"Enter key: \")\n",
    "    k.append(ele)\n",
    "    print(k)\n",
    "    ele1 = input(\"Enter values: \")\n",
    "    v.append(ele1)\n",
    "    print(v)\n",
    "    d.update({k[i]:v[i]})\n",
    "    do.update({v[i]:k[i]})\n",
    "    \n",
    "print(\"Input Dictionary\",d)\n",
    "print(\"Output Dictionary\",do)"
   ]
  },
  {
   "cell_type": "code",
   "execution_count": null,
   "id": "5063c31f",
   "metadata": {},
   "outputs": [],
   "source": [
    "#D5\n",
    "# WAP to save Username and Password of 10 employees in an organisation. \n",
    "# Take the Username and Password as input from the user one by one and save in the Dictionary."
   ]
  },
  {
   "cell_type": "code",
   "execution_count": null,
   "id": "b2b09418",
   "metadata": {},
   "outputs": [],
   "source": [
    "un=[]\n",
    "passw=[]\n",
    "dic={}\n",
    "for i in range(2):\n",
    "    print(\"Enter Username of \",i+1, \"employee: \" )\n",
    "    ele = input()\n",
    "    un.append(ele)\n",
    "    print(\"Enter Password of \",i+1, \"employee: \" )\n",
    "    ele1 = input()\n",
    "    passw.append(ele1)\n",
    "    dic.update({un[i]:passw[i]})\n",
    "print(\"Output dictionary is: \", dic)"
   ]
  },
  {
   "cell_type": "code",
   "execution_count": null,
   "id": "09b9aec9",
   "metadata": {},
   "outputs": [],
   "source": [
    "#D6\n",
    "# Extended Question from #D5\n",
    "# Write an additional functionality to check if an employee is present in the organisation or not.\n",
    "# Basically \"Search\" Functionality based on their username\n",
    "# Take employee name as input from the user.\n",
    "# If the employee is present, print \"Present\" else print \"Not Present\""
   ]
  },
  {
   "cell_type": "code",
   "execution_count": null,
   "id": "b1ea044b",
   "metadata": {},
   "outputs": [],
   "source": [
    "#Run above program to run this\n",
    "x=1\n",
    "while(x!=0):\n",
    "    ei = input(\"Enter the username to be searched for:, 0 to stop\")\n",
    "    if ei == \"0\":\n",
    "        x=0\n",
    "    elif ei in dic:\n",
    "        print(\"Present\")\n",
    "    else:\n",
    "        print(\"Not Present\")"
   ]
  },
  {
   "cell_type": "code",
   "execution_count": null,
   "id": "825b911d",
   "metadata": {},
   "outputs": [],
   "source": [
    "#M1\n",
    "# WAP in python that accepts two integers (n) & (m) from user and \n",
    "# computes the value of 2n3 + 5m2 - 7n + 10"
   ]
  },
  {
   "cell_type": "code",
   "execution_count": null,
   "id": "ef32003a",
   "metadata": {},
   "outputs": [],
   "source": [
    "print(\"Enter n: \")\n",
    "n = int(input())\n",
    "m = int(input(\"Enter m: \"))\n",
    "c = (2*(n**3)) + (5*(m**2)) - (7*n) + 10 \n",
    "print(c)"
   ]
  },
  {
   "cell_type": "code",
   "execution_count": null,
   "id": "58a2b7df",
   "metadata": {},
   "outputs": [],
   "source": [
    "#M2\n",
    "# Write a python program to find the intersection of elements from two list \n",
    "# (find the common elements in two lists)."
   ]
  },
  {
   "cell_type": "code",
   "execution_count": null,
   "id": "06284002",
   "metadata": {},
   "outputs": [],
   "source": [
    "names = [\"Ashutosh\", \"Ajay\", \"Alankrita\", \"Rachit\", \"Komal\", \"Anil\"]\n",
    "names1 = [\"Ashutosh\", \"Ajay\", \"Alankrita\", \"Rachit\", \"Komal\"]\n",
    "s1 = set(names)\n",
    "s2 = set(names1)\n",
    "si = s1 & s2\n",
    "print (si)"
   ]
  },
  {
   "cell_type": "code",
   "execution_count": null,
   "id": "f89b41d3",
   "metadata": {},
   "outputs": [],
   "source": [
    "#M3\n",
    "#WAP in Python to find the Max of n numbers all taken as input from the user."
   ]
  },
  {
   "cell_type": "code",
   "execution_count": null,
   "id": "40bfb697",
   "metadata": {},
   "outputs": [],
   "source": [
    "n = int(input(\"Enter n value: \"))\n",
    "l = []\n",
    "for i in range(n):\n",
    "    ele = float(input(\"Enter numbers up to n: \"))\n",
    "    l.append(ele)\n",
    "print(max(l))\n",
    "    "
   ]
  },
  {
   "cell_type": "code",
   "execution_count": null,
   "id": "6b8918af",
   "metadata": {},
   "outputs": [],
   "source": [
    "#M4\n",
    "#WAP which takes a sequence of numbers from the user and check if all input numbers are unique."
   ]
  },
  {
   "cell_type": "code",
   "execution_count": null,
   "id": "3b5e7ede",
   "metadata": {},
   "outputs": [],
   "source": [
    "n = int(input(\"Enter n value: \"))\n",
    "l = []\n",
    "c=0\n",
    "for i in range(n):\n",
    "    ele = float(input(\"Enter numbers up to n: \"))\n",
    "    l.append(ele)\n",
    "for j in range(len(l)):\n",
    "    if l.count(l[j])>1:\n",
    "        c = 2\n",
    "        break\n",
    "    else:\n",
    "        c=1\n",
    "if c==1:\n",
    "    print(\"Numbers are unique\")\n",
    "if c==2:\n",
    "    print(\"Numbers are not unique\")\n"
   ]
  },
  {
   "cell_type": "code",
   "execution_count": null,
   "id": "06968dbc",
   "metadata": {},
   "outputs": [],
   "source": [
    "#M5\n",
    "# WAP to reverse a given integer number.\n",
    "# Example: Input: 105320\n",
    "#         Output: 023501"
   ]
  },
  {
   "cell_type": "code",
   "execution_count": null,
   "id": "49cdf0f8",
   "metadata": {},
   "outputs": [],
   "source": [
    "n1 = input(\"Enter number to reverse\")\n",
    "# n2 = n1[::-1]    \n",
    "# print(n2)\n",
    "    # n2 = []\n",
    "    # for i in range(len(n1)):\n",
    "    #     ele = n1[len(n1)-i-1]\n",
    "    #     n2.append(ele)\n",
    "    # print(\"\".join(n2))\n",
    "n2=\"\"\n",
    "for i in n1:\n",
    "    n2 = i+n2\n",
    "print(n2)\n"
   ]
  },
  {
   "cell_type": "code",
   "execution_count": null,
   "id": "d25ee1a2",
   "metadata": {},
   "outputs": [],
   "source": [
    "#M6\n",
    "# WAP to take 10 integer inputs from the user and save them in a list. \n",
    "# The inputs have to be mix of even and odd numbers. \n",
    "# Now make one list to save all the even numbers from the input list. \n",
    "# Make another list for odd numbers too."
   ]
  },
  {
   "cell_type": "code",
   "execution_count": null,
   "id": "8f335d8c",
   "metadata": {},
   "outputs": [],
   "source": [
    "l1 = []\n",
    "l2 = []\n",
    "l3 = []\n",
    "for i in range(10):\n",
    "    ele = int(input(\"Enter integer\"))\n",
    "    l1.append(ele)\n",
    "    if l1[i] % 2 == 0:\n",
    "        l2.append(l1[i])\n",
    "    else:\n",
    "        l3.append(l1[i])\n",
    "print(l1)\n",
    "print(l2)\n",
    "print(l3)"
   ]
  },
  {
   "cell_type": "code",
   "execution_count": null,
   "id": "645ab823",
   "metadata": {},
   "outputs": [],
   "source": [
    "#M7\n",
    "#WAP to convert temperature in Fahrenheit to Celsius. Take the temperature from the user in float type."
   ]
  },
  {
   "cell_type": "code",
   "execution_count": null,
   "id": "3b8ab6b3",
   "metadata": {},
   "outputs": [],
   "source": [
    "f = float(input(\"Enter temperature in Fahrenheit: \"))\n",
    "print(\"Temperature in celsius is \",(f-32)*(5/9))"
   ]
  },
  {
   "cell_type": "code",
   "execution_count": null,
   "id": "8d9b0ac6",
   "metadata": {},
   "outputs": [],
   "source": [
    "#M8\n",
    "# WAP to continuously take Names as input from the user. \n",
    "# Save the incoming names into a list as Full Name and save {First Name:Second Name} in a dictionary.\n",
    "# Take inputs till the user enters \"Stop\"\n",
    "\n",
    "# For e.g.: Input: \"Shahrukh Khan\", \"Gauri Khan\",...................\"Stop\"\n",
    "#          Output: list1 = [\"Shahrukh Khan\", \"Gauri Khan\",....................]\n",
    "#                 dict1 = {\"Shahrukh\":\"Khan\", \"Gauri\":\"Khan\", .....................}"
   ]
  },
  {
   "cell_type": "code",
   "execution_count": null,
   "id": "a124696f",
   "metadata": {},
   "outputs": [],
   "source": [
    "l1=[]\n",
    "l2=[]\n",
    "dic ={}\n",
    "x=1\n",
    "while(x!=\"Stop\"):\n",
    "    ele = input(\"Enter name in this format - Firstname Lastname. Press Stop to quit\")\n",
    "    if ele.lower() == \"stop\":\n",
    "        break\n",
    "    else:\n",
    "        l1.append(ele)\n",
    "for i in range(len(l1)):\n",
    "    ele1 = l1[i].split()\n",
    "    l2.append(ele1)\n",
    "print(l1)\n",
    "for j,k in l2:\n",
    "    dic.update({j:k})\n",
    "print(dic)"
   ]
  },
  {
   "cell_type": "code",
   "execution_count": null,
   "id": "cb97fcf6",
   "metadata": {},
   "outputs": [],
   "source": [
    "#M9\n",
    "#WAP to make a simple and compound interest calculator. Take all the necessary data as input from the user."
   ]
  },
  {
   "cell_type": "code",
   "execution_count": null,
   "id": "d2126be1",
   "metadata": {},
   "outputs": [],
   "source": [
    "p = float(input(\"Enter Principal\"))\n",
    "r =float(input(\"Enter rate of intrest\"))\n",
    "t = float(input(\"Enter time in years\"))\n",
    "n = int(input(\"Enter Compounding period:\"))\n",
    "si = (p*r*t)/100\n",
    "print(\"Simple Intrest\",si)\n",
    "ci = p*(((1+(r/(100*n)))**(n*t))-1)\n",
    "print(\"Compound Intrest is\",ci)"
   ]
  }
 ],
 "metadata": {
  "kernelspec": {
   "display_name": "Python 3",
   "language": "python",
   "name": "python3"
  },
  "language_info": {
   "codemirror_mode": {
    "name": "ipython",
    "version": 3
   },
   "file_extension": ".py",
   "mimetype": "text/x-python",
   "name": "python",
   "nbconvert_exporter": "python",
   "pygments_lexer": "ipython3",
   "version": "3.8.8"
  }
 },
 "nbformat": 4,
 "nbformat_minor": 5
}
